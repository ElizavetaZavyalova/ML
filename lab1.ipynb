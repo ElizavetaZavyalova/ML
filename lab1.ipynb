{
  "metadata": {
    "colab": {
      "provenance": []
    },
    "gpuClass": "standard",
    "language_info": {
      "codemirror_mode": {
        "name": "python",
        "version": 3
      },
      "file_extension": ".py",
      "mimetype": "text/x-python",
      "name": "python",
      "nbconvert_exporter": "python",
      "pygments_lexer": "ipython3",
      "version": "3.8"
    },
    "kernelspec": {
      "name": "python",
      "display_name": "Python (Pyodide)",
      "language": "python"
    }
  },
  "nbformat_minor": 5,
  "nbformat": 4,
  "cells": [
    {
      "cell_type": "markdown",
      "source": "# 100 numpy exercises\n\nThis is a collection of exercises that have been collected in the numpy mailing list, on stack overflow\nand in the numpy documentation. The goal of this collection is to offer a quick reference for both old\nand new users but also to provide a set of exercises for those who teach.\n\n\nIf you find an error or think you've a better way to solve some of them, feel\nfree to open an issue at <https://github.com/rougier/numpy-100>.",
      "metadata": {
        "id": "ad1d1330"
      },
      "id": "ad1d1330"
    },
    {
      "cell_type": "markdown",
      "source": "File automatically generated. See the documentation to update questions/answers/hints programmatically.",
      "metadata": {
        "id": "1d620162"
      },
      "id": "1d620162"
    },
    {
      "cell_type": "markdown",
      "source": "Run the `initialize.py` module, then for each question you can query the\nanswer or an hint with `hint(n)` or `answer(n)` for `n` question number.",
      "metadata": {
        "id": "8574d627"
      },
      "id": "8574d627"
    },
    {
      "cell_type": "markdown",
      "source": "#### 1. Import the numpy package under the name `np` (★☆☆)",
      "metadata": {
        "id": "954c5d8f"
      },
      "id": "954c5d8f"
    },
    {
      "cell_type": "code",
      "source": "import numpy as np",
      "metadata": {
        "id": "4006c08e",
        "executionInfo": {
          "status": "ok",
          "timestamp": 1680284894528,
          "user_tz": -180,
          "elapsed": 14,
          "user": {
            "displayName": "Irina Orlova",
            "userId": "15513989829003395173"
          }
        },
        "trusted": true
      },
      "execution_count": 3,
      "outputs": [],
      "id": "4006c08e"
    },
    {
      "cell_type": "markdown",
      "source": "#### 2. Print the numpy version and the configuration (★☆☆)",
      "metadata": {
        "id": "88e34f09"
      },
      "id": "88e34f09"
    },
    {
      "cell_type": "code",
      "source": "print(np.__version__)\nprint(np.show_config())",
      "metadata": {
        "colab": {
          "base_uri": "https://localhost:8080/"
        },
        "id": "b1122a25",
        "executionInfo": {
          "status": "ok",
          "timestamp": 1680198054630,
          "user_tz": -180,
          "elapsed": 335,
          "user": {
            "displayName": "Irina Orlova",
            "userId": "15513989829003395173"
          }
        },
        "outputId": "9dc5a2eb-9278-4aab-c690-4f31bf1bcea6",
        "trusted": true
      },
      "execution_count": 4,
      "outputs": [
        {
          "name": "stdout",
          "text": "1.24.2\nblas_armpl_info:\n  NOT AVAILABLE\nblas_mkl_info:\n  NOT AVAILABLE\nblis_info:\n  NOT AVAILABLE\nopenblas_info:\n  NOT AVAILABLE\naccelerate_info:\n  NOT AVAILABLE\natlas_3_10_blas_threads_info:\n  NOT AVAILABLE\natlas_3_10_blas_info:\n  NOT AVAILABLE\natlas_blas_threads_info:\n  NOT AVAILABLE\natlas_blas_info:\n  NOT AVAILABLE\nblas_info:\n  NOT AVAILABLE\nblas_src_info:\n  NOT AVAILABLE\nblas_opt_info:\n  NOT AVAILABLE\nlapack_armpl_info:\n  NOT AVAILABLE\nlapack_mkl_info:\n  NOT AVAILABLE\nopenblas_lapack_info:\n  NOT AVAILABLE\nopenblas_clapack_info:\n  NOT AVAILABLE\nflame_info:\n  NOT AVAILABLE\natlas_3_10_threads_info:\n  NOT AVAILABLE\natlas_3_10_info:\n  NOT AVAILABLE\natlas_threads_info:\n  NOT AVAILABLE\natlas_info:\n  NOT AVAILABLE\nlapack_info:\n  NOT AVAILABLE\nlapack_src_info:\n  NOT AVAILABLE\nlapack_opt_info:\n  NOT AVAILABLE\nnumpy_linalg_lapack_lite:\n    language = c\nSupported SIMD extensions in this NumPy install:\n    baseline = \n    found = \n    not found = \nNone\n",
          "output_type": "stream"
        }
      ],
      "id": "b1122a25"
    },
    {
      "cell_type": "markdown",
      "source": "#### 3. Create a null vector of size 10 (★☆☆)",
      "metadata": {
        "id": "37c21848"
      },
      "id": "37c21848"
    },
    {
      "cell_type": "code",
      "source": "N = np.zeros((10,))\nprint(N)",
      "metadata": {
        "colab": {
          "base_uri": "https://localhost:8080/"
        },
        "id": "e090a462",
        "executionInfo": {
          "status": "ok",
          "timestamp": 1680200424006,
          "user_tz": -180,
          "elapsed": 324,
          "user": {
            "displayName": "Irina Orlova",
            "userId": "15513989829003395173"
          }
        },
        "outputId": "caa4dd3f-1915-4232-80b4-f83aef67fd6e",
        "trusted": true
      },
      "execution_count": 5,
      "outputs": [
        {
          "name": "stdout",
          "text": "[0. 0. 0. 0. 0. 0. 0. 0. 0. 0.]\n",
          "output_type": "stream"
        }
      ],
      "id": "e090a462"
    },
    {
      "cell_type": "markdown",
      "source": "#### 4. How to find the memory size of any array (★☆☆)",
      "metadata": {
        "id": "7c0e6add"
      },
      "id": "7c0e6add"
    },
    {
      "cell_type": "code",
      "source": "print(\"Размер масива: \",\n      N.size)",
      "metadata": {
        "colab": {
          "base_uri": "https://localhost:8080/"
        },
        "id": "8c96715d",
        "executionInfo": {
          "status": "ok",
          "timestamp": 1680203651843,
          "user_tz": -180,
          "elapsed": 448,
          "user": {
            "displayName": "Irina Orlova",
            "userId": "15513989829003395173"
          }
        },
        "outputId": "2e7b123c-07fd-4823-d1ca-1f6443afaf37",
        "trusted": true
      },
      "execution_count": 6,
      "outputs": [
        {
          "name": "stdout",
          "text": "Размер масива:  10\n",
          "output_type": "stream"
        }
      ],
      "id": "8c96715d"
    },
    {
      "cell_type": "markdown",
      "source": "#### 5. How to get the documentation of the numpy add function from the command line? (★☆☆)",
      "metadata": {
        "id": "4cf547db"
      },
      "id": "4cf547db"
    },
    {
      "cell_type": "code",
      "source": "help( np.add)",
      "metadata": {
        "colab": {
          "base_uri": "https://localhost:8080/"
        },
        "id": "2a24a1e9",
        "executionInfo": {
          "status": "ok",
          "timestamp": 1680207202241,
          "user_tz": -180,
          "elapsed": 349,
          "user": {
            "displayName": "Irina Orlova",
            "userId": "15513989829003395173"
          }
        },
        "outputId": "408b68fb-15b4-4482-f352-549fe6ad934f",
        "trusted": true
      },
      "execution_count": 7,
      "outputs": [
        {
          "name": "stdout",
          "text": "Help on ufunc:\n\nadd = <ufunc 'add'>\n    add(x1, x2, /, out=None, *, where=True, casting='same_kind', order='K', dtype=None, subok=True[, signature, extobj])\n    \n    Add arguments element-wise.\n    \n    Parameters\n    ----------\n    x1, x2 : array_like\n        The arrays to be added.\n        If ``x1.shape != x2.shape``, they must be broadcastable to a common\n        shape (which becomes the shape of the output).\n    out : ndarray, None, or tuple of ndarray and None, optional\n        A location into which the result is stored. If provided, it must have\n        a shape that the inputs broadcast to. If not provided or None,\n        a freshly-allocated array is returned. A tuple (possible only as a\n        keyword argument) must have length equal to the number of outputs.\n    where : array_like, optional\n        This condition is broadcast over the input. At locations where the\n        condition is True, the `out` array will be set to the ufunc result.\n        Elsewhere, the `out` array will retain its original value.\n        Note that if an uninitialized `out` array is created via the default\n        ``out=None``, locations within it where the condition is False will\n        remain uninitialized.\n    **kwargs\n        For other keyword-only arguments, see the\n        :ref:`ufunc docs <ufuncs.kwargs>`.\n    \n    Returns\n    -------\n    add : ndarray or scalar\n        The sum of `x1` and `x2`, element-wise.\n        This is a scalar if both `x1` and `x2` are scalars.\n    \n    Notes\n    -----\n    Equivalent to `x1` + `x2` in terms of array broadcasting.\n    \n    Examples\n    --------\n    >>> np.add(1.0, 4.0)\n    5.0\n    >>> x1 = np.arange(9.0).reshape((3, 3))\n    >>> x2 = np.arange(3.0)\n    >>> np.add(x1, x2)\n    array([[  0.,   2.,   4.],\n           [  3.,   5.,   7.],\n           [  6.,   8.,  10.]])\n    \n    The ``+`` operator can be used as a shorthand for ``np.add`` on ndarrays.\n    \n    >>> x1 = np.arange(9.0).reshape((3, 3))\n    >>> x2 = np.arange(3.0)\n    >>> x1 + x2\n    array([[ 0.,  2.,  4.],\n           [ 3.,  5.,  7.],\n           [ 6.,  8., 10.]])\n\n",
          "output_type": "stream"
        }
      ],
      "id": "2a24a1e9"
    },
    {
      "cell_type": "markdown",
      "source": "#### 6. Create a null vector of size 10 but the fifth value which is 1 (★☆☆)",
      "metadata": {
        "id": "bf6679c3"
      },
      "id": "bf6679c3"
    },
    {
      "cell_type": "code",
      "source": "vec = np.zeros((10,))\nvec[4] = 1\nprint(vec)",
      "metadata": {
        "colab": {
          "base_uri": "https://localhost:8080/"
        },
        "id": "f4cd59b6",
        "executionInfo": {
          "status": "ok",
          "timestamp": 1680205209329,
          "user_tz": -180,
          "elapsed": 15,
          "user": {
            "displayName": "Irina Orlova",
            "userId": "15513989829003395173"
          }
        },
        "outputId": "26118330-fbb7-4f81-f60c-7ca67388cc61",
        "trusted": true
      },
      "execution_count": 8,
      "outputs": [
        {
          "name": "stdout",
          "text": "[0. 0. 0. 0. 1. 0. 0. 0. 0. 0.]\n",
          "output_type": "stream"
        }
      ],
      "id": "f4cd59b6"
    },
    {
      "cell_type": "markdown",
      "source": "#### 7. Create a vector with values ranging from 10 to 49 (★☆☆)",
      "metadata": {
        "id": "022451fb"
      },
      "id": "022451fb"
    },
    {
      "cell_type": "code",
      "source": "vecRange = np.arange(10, 50)\nprint(vecRange)",
      "metadata": {
        "colab": {
          "base_uri": "https://localhost:8080/"
        },
        "id": "22c2f0a8",
        "executionInfo": {
          "status": "ok",
          "timestamp": 1680205282398,
          "user_tz": -180,
          "elapsed": 18,
          "user": {
            "displayName": "Irina Orlova",
            "userId": "15513989829003395173"
          }
        },
        "outputId": "feb54afb-3858-4f51-9ce1-5f148cc8df80",
        "trusted": true
      },
      "execution_count": 9,
      "outputs": [
        {
          "name": "stdout",
          "text": "[10 11 12 13 14 15 16 17 18 19 20 21 22 23 24 25 26 27 28 29 30 31 32 33\n 34 35 36 37 38 39 40 41 42 43 44 45 46 47 48 49]\n",
          "output_type": "stream"
        }
      ],
      "id": "22c2f0a8"
    },
    {
      "cell_type": "markdown",
      "source": "#### 8. Reverse a vector (first element becomes last) (★☆☆)",
      "metadata": {
        "id": "aca8f6ee"
      },
      "id": "aca8f6ee"
    },
    {
      "cell_type": "code",
      "source": "revVec = np.arange(0, 50)\nrevVect = revVec[::-1]\nprint(revVect)",
      "metadata": {
        "colab": {
          "base_uri": "https://localhost:8080/"
        },
        "id": "15f37616",
        "executionInfo": {
          "status": "ok",
          "timestamp": 1680205660829,
          "user_tz": -180,
          "elapsed": 511,
          "user": {
            "displayName": "Irina Orlova",
            "userId": "15513989829003395173"
          }
        },
        "outputId": "8027b821-dbd7-4cc5-854a-66d99cb3661b",
        "trusted": true
      },
      "execution_count": 10,
      "outputs": [
        {
          "name": "stdout",
          "text": "[49 48 47 46 45 44 43 42 41 40 39 38 37 36 35 34 33 32 31 30 29 28 27 26\n 25 24 23 22 21 20 19 18 17 16 15 14 13 12 11 10  9  8  7  6  5  4  3  2\n  1  0]\n",
          "output_type": "stream"
        }
      ],
      "id": "15f37616"
    },
    {
      "cell_type": "markdown",
      "source": "#### 9. Create a 3x3 matrix with values ranging from 0 to 8 (★☆☆)",
      "metadata": {
        "id": "97bfddd4"
      },
      "id": "97bfddd4"
    },
    {
      "cell_type": "code",
      "source": "M = np.arange(0, 9)\nM.shape = (3, 3)\nprint(M)",
      "metadata": {
        "colab": {
          "base_uri": "https://localhost:8080/"
        },
        "id": "8b93d83c",
        "executionInfo": {
          "status": "ok",
          "timestamp": 1680206855032,
          "user_tz": -180,
          "elapsed": 14,
          "user": {
            "displayName": "Irina Orlova",
            "userId": "15513989829003395173"
          }
        },
        "outputId": "b25d8eb0-389d-4088-87ff-f3ca906a871c",
        "trusted": true
      },
      "execution_count": 11,
      "outputs": [
        {
          "name": "stdout",
          "text": "[[0 1 2]\n [3 4 5]\n [6 7 8]]\n",
          "output_type": "stream"
        }
      ],
      "id": "8b93d83c"
    },
    {
      "cell_type": "markdown",
      "source": "#### 10. Find indices of non-zero elements from [1,2,0,0,4,0] (★☆☆)",
      "metadata": {
        "id": "a073dad0"
      },
      "id": "a073dad0"
    },
    {
      "cell_type": "code",
      "source": "NoZeroArrayItems= np.array([1,2,0,0,4,0])\nnp.nonzero(NoZeroArrayItems)",
      "metadata": {
        "id": "c21fb91c",
        "colab": {
          "base_uri": "https://localhost:8080/"
        },
        "executionInfo": {
          "status": "ok",
          "timestamp": 1680208218584,
          "user_tz": -180,
          "elapsed": 16,
          "user": {
            "displayName": "Irina Orlova",
            "userId": "15513989829003395173"
          }
        },
        "outputId": "d9169970-c8b4-40d3-ec2c-56a08f8e54d3",
        "trusted": true
      },
      "execution_count": 12,
      "outputs": [
        {
          "execution_count": 12,
          "output_type": "execute_result",
          "data": {
            "text/plain": "(array([0, 1, 4], dtype=int32),)"
          },
          "metadata": {}
        }
      ],
      "id": "c21fb91c"
    },
    {
      "cell_type": "markdown",
      "source": "#### 11. Create a 3x3 identity matrix (★☆☆)",
      "metadata": {
        "id": "82b9a7a0"
      },
      "id": "82b9a7a0"
    },
    {
      "cell_type": "code",
      "source": "IdentityMatrix = np.eye(3)\nprint(IdentityMatrix)",
      "metadata": {
        "id": "7ce1325a",
        "colab": {
          "base_uri": "https://localhost:8080/"
        },
        "executionInfo": {
          "status": "ok",
          "timestamp": 1680249424721,
          "user_tz": -180,
          "elapsed": 312,
          "user": {
            "displayName": "Irina Orlova",
            "userId": "15513989829003395173"
          }
        },
        "outputId": "184def24-9970-4cb6-b393-42c23965d79f",
        "trusted": true
      },
      "execution_count": 13,
      "outputs": [
        {
          "name": "stdout",
          "text": "[[1. 0. 0.]\n [0. 1. 0.]\n [0. 0. 1.]]\n",
          "output_type": "stream"
        }
      ],
      "id": "7ce1325a"
    },
    {
      "cell_type": "markdown",
      "source": "#### 12. Create a 3x3x3 array with random values (★☆☆)",
      "metadata": {
        "id": "0e6364d3"
      },
      "id": "0e6364d3"
    },
    {
      "cell_type": "code",
      "source": "randomValues = np.random.random((3,3,3))\nprint(randomValues)",
      "metadata": {
        "id": "8139c1c8",
        "colab": {
          "base_uri": "https://localhost:8080/"
        },
        "executionInfo": {
          "status": "ok",
          "timestamp": 1680249458845,
          "user_tz": -180,
          "elapsed": 26,
          "user": {
            "displayName": "Irina Orlova",
            "userId": "15513989829003395173"
          }
        },
        "outputId": "c4a0ccd5-bdb9-4cab-bf48-4c7c59ddf689",
        "trusted": true
      },
      "execution_count": 14,
      "outputs": [
        {
          "name": "stdout",
          "text": "[[[0.90663346 0.33937698 0.50259973]\n  [0.21183754 0.27197871 0.83893787]\n  [0.64536522 0.75049744 0.11515041]]\n\n [[0.03466316 0.36596116 0.49558413]\n  [0.71350778 0.66379803 0.52637914]\n  [0.77649323 0.36432252 0.68899258]]\n\n [[0.43098569 0.82370372 0.76303207]\n  [0.36559607 0.18076112 0.13807066]\n  [0.39451393 0.32634409 0.67505448]]]\n",
          "output_type": "stream"
        }
      ],
      "id": "8139c1c8"
    },
    {
      "cell_type": "markdown",
      "source": "#### 13. Create a 10x10 array with random values and find the minimum and maximum values (★☆☆)",
      "metadata": {
        "id": "49ef36a6"
      },
      "id": "49ef36a6"
    },
    {
      "cell_type": "code",
      "source": "randomArray = np.random.random((10,10))\nminArray, maxArray = randomArray.min(), randomArray.max()\nprint(\"array: \", randomArray)\nprint(f\"min = {minArray}, max = {maxArray}\")",
      "metadata": {
        "id": "5b4c73c7",
        "colab": {
          "base_uri": "https://localhost:8080/"
        },
        "executionInfo": {
          "status": "ok",
          "timestamp": 1680249888042,
          "user_tz": -180,
          "elapsed": 289,
          "user": {
            "displayName": "Irina Orlova",
            "userId": "15513989829003395173"
          }
        },
        "outputId": "7b3b52f7-d2fa-40a7-dd92-cfab427ecab7",
        "trusted": true
      },
      "execution_count": 15,
      "outputs": [
        {
          "name": "stdout",
          "text": "array:  [[2.02764138e-01 8.45658023e-01 9.56637701e-01 9.91875281e-01\n  7.94872724e-01 7.94432510e-01 2.16552830e-01 3.52332388e-01\n  3.49432066e-01 3.37397488e-01]\n [2.82756452e-01 2.05446175e-01 7.16474021e-01 8.64779650e-01\n  4.03445932e-01 3.99780641e-01 4.53711492e-02 9.62636968e-01\n  9.84316712e-01 8.79850315e-01]\n [5.38546762e-01 6.11946325e-01 2.63033800e-01 8.31474513e-01\n  1.19740446e-01 7.23529820e-02 5.12804847e-01 7.29356509e-01\n  9.46161243e-01 9.92667099e-01]\n [9.17138341e-01 3.03633744e-01 7.64256417e-01 5.64583923e-02\n  6.28225328e-01 3.91753647e-01 4.91910434e-01 4.11525841e-01\n  6.78570291e-01 2.76078480e-01]\n [7.42096222e-01 7.02392438e-01 9.83971966e-01 8.07814196e-01\n  1.65879879e-01 2.19183995e-01 9.49073791e-02 8.46632206e-01\n  8.88904290e-01 9.04159619e-01]\n [7.35570340e-01 8.20737702e-01 3.57940445e-01 8.01621685e-01\n  1.42073219e-01 3.78044283e-01 4.80706260e-01 9.85112068e-01\n  4.39027917e-01 5.32497215e-01]\n [4.68659708e-01 2.04070335e-01 8.76253938e-01 6.45764194e-01\n  2.40615326e-01 7.02525160e-01 3.73587148e-01 4.17987804e-01\n  6.45809015e-01 1.87011750e-01]\n [8.05469602e-01 4.50027710e-01 5.64382508e-01 9.89370499e-01\n  8.10403635e-01 1.41448622e-01 9.33768803e-01 1.16831149e-01\n  6.50138246e-01 5.47362861e-01]\n [3.00332171e-01 1.60165027e-05 7.99450467e-01 5.50651171e-01\n  1.89497719e-01 8.83047459e-01 7.84487735e-01 8.99291731e-01\n  5.72645155e-01 6.03215208e-01]\n [4.16158230e-01 8.20865524e-02 9.80463076e-01 5.65821428e-01\n  2.48743368e-01 2.85076330e-01 7.32221994e-01 7.04465309e-01\n  7.92319297e-01 7.68286143e-01]]\nmin = 1.6016502713656067e-05, max = 0.9926670989491092\n",
          "output_type": "stream"
        }
      ],
      "id": "5b4c73c7"
    },
    {
      "cell_type": "markdown",
      "source": "#### 14. Create a random vector of size 30 and find the mean value (★☆☆)",
      "metadata": {
        "id": "625eb243"
      },
      "id": "625eb243"
    },
    {
      "cell_type": "code",
      "source": "randomVector = np.random.random(30)\nmeanValue = randomVector .mean()\nprint(\"vector: \", randomVector )\nprint(\"mean value:\", meanValue)",
      "metadata": {
        "id": "ba7b8300",
        "colab": {
          "base_uri": "https://localhost:8080/"
        },
        "executionInfo": {
          "status": "ok",
          "timestamp": 1680250074571,
          "user_tz": -180,
          "elapsed": 11,
          "user": {
            "displayName": "Irina Orlova",
            "userId": "15513989829003395173"
          }
        },
        "outputId": "33a92794-a094-4315-898e-7b4fbe2f6865",
        "trusted": true
      },
      "execution_count": 16,
      "outputs": [
        {
          "name": "stdout",
          "text": "vector:  [0.46990802 0.83248278 0.46475642 0.70111762 0.68888079 0.89658852\n 0.84512555 0.65189164 0.80097799 0.81274096 0.67234614 0.82824883\n 0.94249994 0.07387658 0.48500012 0.21204406 0.24010726 0.47402653\n 0.77353477 0.76675235 0.64340084 0.15851728 0.4663268  0.82046822\n 0.77788246 0.88005954 0.30004543 0.19013868 0.81169511 0.59858405]\nmean value: 0.6093341770476383\n",
          "output_type": "stream"
        }
      ],
      "id": "ba7b8300"
    },
    {
      "cell_type": "markdown",
      "source": "#### 15. Create a 2d array with 1 on the border and 0 inside (★☆☆)",
      "metadata": {
        "id": "19540b2f"
      },
      "id": "19540b2f"
    },
    {
      "cell_type": "code",
      "source": "array = np.ones((10,10))\narray[1:-1,1:-1] = 0\nprint(array)",
      "metadata": {
        "id": "19e78d2c",
        "colab": {
          "base_uri": "https://localhost:8080/"
        },
        "executionInfo": {
          "status": "ok",
          "timestamp": 1680250188359,
          "user_tz": -180,
          "elapsed": 11,
          "user": {
            "displayName": "Irina Orlova",
            "userId": "15513989829003395173"
          }
        },
        "outputId": "767af1b0-c446-4ae6-a44b-b1e273a4311b",
        "trusted": true
      },
      "execution_count": 17,
      "outputs": [
        {
          "name": "stdout",
          "text": "[[1. 1. 1. 1. 1. 1. 1. 1. 1. 1.]\n [1. 0. 0. 0. 0. 0. 0. 0. 0. 1.]\n [1. 0. 0. 0. 0. 0. 0. 0. 0. 1.]\n [1. 0. 0. 0. 0. 0. 0. 0. 0. 1.]\n [1. 0. 0. 0. 0. 0. 0. 0. 0. 1.]\n [1. 0. 0. 0. 0. 0. 0. 0. 0. 1.]\n [1. 0. 0. 0. 0. 0. 0. 0. 0. 1.]\n [1. 0. 0. 0. 0. 0. 0. 0. 0. 1.]\n [1. 0. 0. 0. 0. 0. 0. 0. 0. 1.]\n [1. 1. 1. 1. 1. 1. 1. 1. 1. 1.]]\n",
          "output_type": "stream"
        }
      ],
      "id": "19e78d2c"
    },
    {
      "cell_type": "markdown",
      "source": "#### 16. How to add a border (filled with 0's) around an existing array? (★☆☆)",
      "metadata": {
        "id": "3f0fe171"
      },
      "id": "3f0fe171"
    },
    {
      "cell_type": "code",
      "source": "array = np.ones((10,10))\narray = np.pad(array, pad_width=1, mode='constant', constant_values=0)\nprint(array)",
      "metadata": {
        "id": "662a99b4",
        "colab": {
          "base_uri": "https://localhost:8080/"
        },
        "executionInfo": {
          "status": "ok",
          "timestamp": 1680250361006,
          "user_tz": -180,
          "elapsed": 283,
          "user": {
            "displayName": "Irina Orlova",
            "userId": "15513989829003395173"
          }
        },
        "outputId": "bd9f8096-1b26-4b00-e4e3-b722b8d69f79",
        "trusted": true
      },
      "execution_count": 18,
      "outputs": [
        {
          "name": "stdout",
          "text": "[[0. 0. 0. 0. 0. 0. 0. 0. 0. 0. 0. 0.]\n [0. 1. 1. 1. 1. 1. 1. 1. 1. 1. 1. 0.]\n [0. 1. 1. 1. 1. 1. 1. 1. 1. 1. 1. 0.]\n [0. 1. 1. 1. 1. 1. 1. 1. 1. 1. 1. 0.]\n [0. 1. 1. 1. 1. 1. 1. 1. 1. 1. 1. 0.]\n [0. 1. 1. 1. 1. 1. 1. 1. 1. 1. 1. 0.]\n [0. 1. 1. 1. 1. 1. 1. 1. 1. 1. 1. 0.]\n [0. 1. 1. 1. 1. 1. 1. 1. 1. 1. 1. 0.]\n [0. 1. 1. 1. 1. 1. 1. 1. 1. 1. 1. 0.]\n [0. 1. 1. 1. 1. 1. 1. 1. 1. 1. 1. 0.]\n [0. 1. 1. 1. 1. 1. 1. 1. 1. 1. 1. 0.]\n [0. 0. 0. 0. 0. 0. 0. 0. 0. 0. 0. 0.]]\n",
          "output_type": "stream"
        }
      ],
      "id": "662a99b4"
    },
    {
      "cell_type": "markdown",
      "source": "#### 17. What is the result of the following expression? (★☆☆)\n```python\n0 * np.nan\nnp.nan == np.nan\nnp.inf > np.nan\nnp.nan - np.nan\nnp.nan in set([np.nan])\n0.3 == 3 * 0.1\n```",
      "metadata": {
        "id": "0464c4af"
      },
      "id": "0464c4af"
    },
    {
      "cell_type": "code",
      "source": "print(0 * np.nan)\nprint(np.nan == np.nan)\nprint(np.inf > np.nan)\nprint(np.nan - np.nan)\nprint(np.nan in set([np.nan]))\nprint(0.3 == 3 * 0.1)",
      "metadata": {
        "id": "18926a29",
        "colab": {
          "base_uri": "https://localhost:8080/"
        },
        "executionInfo": {
          "status": "ok",
          "timestamp": 1680250404646,
          "user_tz": -180,
          "elapsed": 15,
          "user": {
            "displayName": "Irina Orlova",
            "userId": "15513989829003395173"
          }
        },
        "outputId": "d02972f0-4d96-442d-d1e9-8a065a7ed38e",
        "trusted": true
      },
      "execution_count": 19,
      "outputs": [
        {
          "name": "stdout",
          "text": "nan\nFalse\nFalse\nnan\nTrue\nFalse\n",
          "output_type": "stream"
        }
      ],
      "id": "18926a29"
    },
    {
      "cell_type": "markdown",
      "source": "#### 18. Create a 5x5 matrix with values 1,2,3,4 just below the diagonal (★☆☆)",
      "metadata": {
        "id": "afb90e8b"
      },
      "id": "afb90e8b"
    },
    {
      "cell_type": "code",
      "source": "belowTheDiagonalMatrix = np.diag(1+np.arange(4),k=-1)\nprint(belowTheDiagonalMatrix)",
      "metadata": {
        "id": "8a988102",
        "colab": {
          "base_uri": "https://localhost:8080/"
        },
        "executionInfo": {
          "status": "ok",
          "timestamp": 1680250696566,
          "user_tz": -180,
          "elapsed": 9,
          "user": {
            "displayName": "Irina Orlova",
            "userId": "15513989829003395173"
          }
        },
        "outputId": "fd06b99c-9481-4646-f70e-afd28869a43e",
        "trusted": true
      },
      "execution_count": 20,
      "outputs": [
        {
          "name": "stdout",
          "text": "[[0 0 0 0 0]\n [1 0 0 0 0]\n [0 2 0 0 0]\n [0 0 3 0 0]\n [0 0 0 4 0]]\n",
          "output_type": "stream"
        }
      ],
      "id": "8a988102"
    },
    {
      "cell_type": "markdown",
      "source": "#### 19. Create a 8x8 matrix and fill it with a checkerboard pattern (★☆☆)",
      "metadata": {
        "id": "ca611f9e"
      },
      "id": "ca611f9e"
    },
    {
      "cell_type": "code",
      "source": "matrix = np.ones((10,10), dtype=int)\nmatrix[1::2,::2] = 0\nmatrix[::2,1::2] = 0\nprint(matrix)",
      "metadata": {
        "id": "24049fc7",
        "colab": {
          "base_uri": "https://localhost:8080/"
        },
        "executionInfo": {
          "status": "ok",
          "timestamp": 1680250841623,
          "user_tz": -180,
          "elapsed": 9,
          "user": {
            "displayName": "Irina Orlova",
            "userId": "15513989829003395173"
          }
        },
        "outputId": "85bae97c-5185-481f-b97f-97873ddd71bc",
        "trusted": true
      },
      "execution_count": 21,
      "outputs": [
        {
          "name": "stdout",
          "text": "[[1 0 1 0 1 0 1 0 1 0]\n [0 1 0 1 0 1 0 1 0 1]\n [1 0 1 0 1 0 1 0 1 0]\n [0 1 0 1 0 1 0 1 0 1]\n [1 0 1 0 1 0 1 0 1 0]\n [0 1 0 1 0 1 0 1 0 1]\n [1 0 1 0 1 0 1 0 1 0]\n [0 1 0 1 0 1 0 1 0 1]\n [1 0 1 0 1 0 1 0 1 0]\n [0 1 0 1 0 1 0 1 0 1]]\n",
          "output_type": "stream"
        }
      ],
      "id": "24049fc7"
    },
    {
      "cell_type": "markdown",
      "source": "#### 20. Consider a (6,7,8) shape array, what is the index (x,y,z) of the 100th element? (★☆☆)",
      "metadata": {
        "id": "9b77f7af"
      },
      "id": "9b77f7af"
    },
    {
      "cell_type": "code",
      "source": "print(np.unravel_index(99,(6,7,8)))",
      "metadata": {
        "id": "402efd68",
        "colab": {
          "base_uri": "https://localhost:8080/"
        },
        "executionInfo": {
          "status": "ok",
          "timestamp": 1680250900300,
          "user_tz": -180,
          "elapsed": 301,
          "user": {
            "displayName": "Irina Orlova",
            "userId": "15513989829003395173"
          }
        },
        "outputId": "eb64f6a7-bfbe-458c-e6f6-c2d733570bf7",
        "trusted": true
      },
      "execution_count": 22,
      "outputs": [
        {
          "name": "stdout",
          "text": "(1, 5, 3)\n",
          "output_type": "stream"
        }
      ],
      "id": "402efd68"
    },
    {
      "cell_type": "markdown",
      "source": "#### 21. Create a checkerboard 8x8 matrix using the tile function (★☆☆)",
      "metadata": {
        "id": "07e399b8"
      },
      "id": "07e399b8"
    },
    {
      "cell_type": "code",
      "source": "checkerboard = np.tile( np.array([[0,1],[1,0]]), (4,4))\nprint(checkerboard)",
      "metadata": {
        "id": "867964a9",
        "colab": {
          "base_uri": "https://localhost:8080/"
        },
        "executionInfo": {
          "status": "ok",
          "timestamp": 1680250944628,
          "user_tz": -180,
          "elapsed": 11,
          "user": {
            "displayName": "Irina Orlova",
            "userId": "15513989829003395173"
          }
        },
        "outputId": "dba6fa5c-efd9-4fbb-cb21-7078e74fa75d",
        "trusted": true
      },
      "execution_count": 23,
      "outputs": [
        {
          "name": "stdout",
          "text": "[[0 1 0 1 0 1 0 1]\n [1 0 1 0 1 0 1 0]\n [0 1 0 1 0 1 0 1]\n [1 0 1 0 1 0 1 0]\n [0 1 0 1 0 1 0 1]\n [1 0 1 0 1 0 1 0]\n [0 1 0 1 0 1 0 1]\n [1 0 1 0 1 0 1 0]]\n",
          "output_type": "stream"
        }
      ],
      "id": "867964a9"
    },
    {
      "cell_type": "markdown",
      "source": "#### 22. Normalize a 5x5 random matrix (★☆☆)",
      "metadata": {
        "id": "bc92d88a"
      },
      "id": "bc92d88a"
    },
    {
      "cell_type": "code",
      "source": "matrix = np.random.random((5,5))\nprint(\"matrix: \", matrix)\nnormalMatrix= (matrix - np.mean (matrix)) / (np.std (matrix))\nprint(\"normalize matrix: \", normalMatrix)",
      "metadata": {
        "id": "a3709496",
        "colab": {
          "base_uri": "https://localhost:8080/"
        },
        "executionInfo": {
          "status": "ok",
          "timestamp": 1680251084246,
          "user_tz": -180,
          "elapsed": 8,
          "user": {
            "displayName": "Irina Orlova",
            "userId": "15513989829003395173"
          }
        },
        "outputId": "f6c424dd-16a6-45c2-db6d-78fe8579a9b8",
        "trusted": true
      },
      "execution_count": 24,
      "outputs": [
        {
          "name": "stdout",
          "text": "matrix:  [[0.68221416 0.93680145 0.98425651 0.11478279 0.15696065]\n [0.59741167 0.04015911 0.78621534 0.55202052 0.18308664]\n [0.13619936 0.91447638 0.03857897 0.64400458 0.33606428]\n [0.79889772 0.88102643 0.32553801 0.62552831 0.29743657]\n [0.93606851 0.32211649 0.21007708 0.40018058 0.30847523]]\nnormalize matrix:  [[ 0.63018469  1.45772956  1.61198389 -1.21427084 -1.07717022]\n [ 0.35453123 -1.45683773  0.96824417  0.2069857  -0.99224677]\n [-1.14465553  1.38516115 -1.46197402  0.50598311 -0.4949876 ]\n [ 1.00946868  1.27643092 -0.52920363  0.44592533 -0.62054833]\n [ 1.45534712 -0.54032539 -0.90451341 -0.28657533 -0.58466678]]\n",
          "output_type": "stream"
        }
      ],
      "id": "a3709496"
    },
    {
      "cell_type": "markdown",
      "source": "#### 23. Create a custom dtype that describes a color as four unsigned bytes (RGBA) (★☆☆)",
      "metadata": {
        "id": "9e2fd8ce"
      },
      "id": "9e2fd8ce"
    },
    {
      "cell_type": "code",
      "source": "color = np.dtype([(\"r\", np.ubyte, (1,)),(\"g\", np.ubyte, (1,)),(\"b\", np.ubyte, (1,)),(\"a\", np.ubyte,(1,))])",
      "metadata": {
        "id": "5881b2b5",
        "trusted": true
      },
      "execution_count": 25,
      "outputs": [],
      "id": "5881b2b5"
    },
    {
      "cell_type": "markdown",
      "source": "#### 24. Multiply a 5x3 matrix by a 3x2 matrix (real matrix product) (★☆☆)",
      "metadata": {
        "id": "d6904ab9"
      },
      "id": "d6904ab9"
    },
    {
      "cell_type": "code",
      "source": "matr53 = np.arange(1,16)\nmatr53.shape = (5, 3)\nprint(\"matrix 1:\\n\", matr53)\n\nmatr32 = np.arange(1,7)\nmatr32.shape = (3, 2)\nprint(\"matrix 2:\\n\",matr32)\n\nrezult = np.dot(matr53, matr32)\nprint(\"multiply matrix:\\n\", rezult)\n",
      "metadata": {
        "id": "cb3b6528",
        "colab": {
          "base_uri": "https://localhost:8080/"
        },
        "executionInfo": {
          "status": "ok",
          "timestamp": 1680251645423,
          "user_tz": -180,
          "elapsed": 425,
          "user": {
            "displayName": "Irina Orlova",
            "userId": "15513989829003395173"
          }
        },
        "outputId": "f7f1a888-51c8-4788-efb3-855e000b3d97",
        "trusted": true
      },
      "execution_count": 26,
      "outputs": [
        {
          "name": "stdout",
          "text": "matrix 1:\n [[ 1  2  3]\n [ 4  5  6]\n [ 7  8  9]\n [10 11 12]\n [13 14 15]]\nmatrix 2:\n [[1 2]\n [3 4]\n [5 6]]\nmultiply matrix:\n [[ 22  28]\n [ 49  64]\n [ 76 100]\n [103 136]\n [130 172]]\n",
          "output_type": "stream"
        }
      ],
      "id": "cb3b6528"
    },
    {
      "cell_type": "markdown",
      "source": "#### 25. Given a 1D array, negate all elements which are between 3 and 8, in place. (★☆☆)",
      "metadata": {
        "id": "c57116dd"
      },
      "id": "c57116dd"
    },
    {
      "cell_type": "code",
      "source": "array = np.arange(-11, 12)\nprint(array)\n\narray[(3 < array) & (array < 8)] *= -1\nprint(array)",
      "metadata": {
        "id": "4fbf1b1e",
        "colab": {
          "base_uri": "https://localhost:8080/"
        },
        "executionInfo": {
          "status": "ok",
          "timestamp": 1680251923294,
          "user_tz": -180,
          "elapsed": 11,
          "user": {
            "displayName": "Irina Orlova",
            "userId": "15513989829003395173"
          }
        },
        "outputId": "36c594bb-de0c-4169-d730-ecccfab35ca3",
        "trusted": true
      },
      "execution_count": 27,
      "outputs": [
        {
          "name": "stdout",
          "text": "[-11 -10  -9  -8  -7  -6  -5  -4  -3  -2  -1   0   1   2   3   4   5   6\n   7   8   9  10  11]\n[-11 -10  -9  -8  -7  -6  -5  -4  -3  -2  -1   0   1   2   3  -4  -5  -6\n  -7   8   9  10  11]\n",
          "output_type": "stream"
        }
      ],
      "id": "4fbf1b1e"
    },
    {
      "cell_type": "markdown",
      "source": "#### 26. What is the output of the following script? (★☆☆)\n```python\n# Author: Jake VanderPlas\n\nprint(sum(range(5),-1))\nfrom numpy import *\nprint(sum(range(5),-1))\n```",
      "metadata": {
        "id": "52707d61"
      },
      "id": "52707d61"
    },
    {
      "cell_type": "code",
      "source": "print(sum(range(5),-1))\nfrom numpy import *\nprint(sum(range(5),-1))",
      "metadata": {
        "id": "18a238e6",
        "colab": {
          "base_uri": "https://localhost:8080/"
        },
        "executionInfo": {
          "status": "ok",
          "timestamp": 1680252010494,
          "user_tz": -180,
          "elapsed": 540,
          "user": {
            "displayName": "Irina Orlova",
            "userId": "15513989829003395173"
          }
        },
        "outputId": "f73ebe4f-1a26-4864-af9e-4ee5783b777e",
        "trusted": true
      },
      "execution_count": 28,
      "outputs": [
        {
          "name": "stdout",
          "text": "9\n10\n",
          "output_type": "stream"
        }
      ],
      "id": "18a238e6"
    },
    {
      "cell_type": "markdown",
      "source": "#### 27. Consider an integer vector Z, which of these expressions are legal? (★☆☆)\n```python\nZ**Z\n2 << Z >> 2\nZ <- Z\n1j*Z\nZ/1/1\nZ<Z>Z\n```",
      "metadata": {
        "id": "5ab377fd"
      },
      "id": "5ab377fd"
    },
    {
      "cell_type": "code",
      "source": "Z = np.array([1,2,3,4,5,6,7,8,9,10])\nprint(\"Z: \", Z)\n\n\na = Z**Z\nprint(\"Z**Z:\", a)\n\na = 2 << Z >> 2\nprint(\"2 << Z >> 2:\", a)\n\na = Z <- Z\nprint(\"Z <- Z:\", a)\n\na = 1j*Z\nprint(\"1j*Z:\", a)\n\na = Z/1/1\nprint(\"Z/1/1:\", a)\n\n#a = Z<Z>Z # ValueError\nprint(\"Z<Z>Z: # ValueError\")\n",
      "metadata": {
        "id": "36cc66a9",
        "colab": {
          "base_uri": "https://localhost:8080/"
        },
        "executionInfo": {
          "status": "ok",
          "timestamp": 1680253611416,
          "user_tz": -180,
          "elapsed": 378,
          "user": {
            "displayName": "Irina Orlova",
            "userId": "15513989829003395173"
          }
        },
        "outputId": "f5bddf50-ede6-4261-c1e5-bd392abe80f1",
        "trusted": true
      },
      "execution_count": 29,
      "outputs": [
        {
          "name": "stdout",
          "text": "Z:  [ 1  2  3  4  5  6  7  8  9 10]\nZ**Z: [         1          4         27        256       3125      46656\n     823543   16777216  387420489 1410065408]\n2 << Z >> 2: [  1   2   4   8  16  32  64 128 256 512]\nZ <- Z: [False False False False False False False False False False]\n1j*Z: [0. +1.j 0. +2.j 0. +3.j 0. +4.j 0. +5.j 0. +6.j 0. +7.j 0. +8.j 0. +9.j\n 0.+10.j]\nZ/1/1: [ 1.  2.  3.  4.  5.  6.  7.  8.  9. 10.]\nZ<Z>Z: # ValueError\n",
          "output_type": "stream"
        }
      ],
      "id": "36cc66a9"
    },
    {
      "cell_type": "markdown",
      "source": "#### 28. What are the result of the following expressions? (★☆☆)\n```python\nnp.array(0) / np.array(0)\nnp.array(0) // np.array(0)\nnp.array([np.nan]).astype(int).astype(float)\n```",
      "metadata": {
        "id": "654f223f"
      },
      "id": "654f223f"
    },
    {
      "cell_type": "code",
      "source": "print(np.array(0) / np.array(0))\nprint(np.array(0) // np.array(0))\nprint(np.array([np.nan]).astype(int).astype(float))",
      "metadata": {
        "id": "6d9d3c21",
        "colab": {
          "base_uri": "https://localhost:8080/"
        },
        "executionInfo": {
          "status": "ok",
          "timestamp": 1680253642529,
          "user_tz": -180,
          "elapsed": 294,
          "user": {
            "displayName": "Irina Orlova",
            "userId": "15513989829003395173"
          }
        },
        "outputId": "a3af9254-5593-41ff-e6e8-fb7b2882d7e4",
        "trusted": true
      },
      "execution_count": 30,
      "outputs": [
        {
          "name": "stdout",
          "text": "nan\n0\n[-2.14748365e+09]\n",
          "output_type": "stream"
        }
      ],
      "id": "6d9d3c21"
    },
    {
      "cell_type": "markdown",
      "source": "#### 29. How to round away from zero a float array ? (★☆☆)",
      "metadata": {
        "id": "a7e00adf"
      },
      "id": "a7e00adf"
    },
    {
      "cell_type": "code",
      "source": "array = np.arange(-0.5, 0.5, 0.1)\nprint(array)\nprint (np.copysign(np.ceil(np.abs(array)), array))",
      "metadata": {
        "id": "6ee5777d",
        "colab": {
          "base_uri": "https://localhost:8080/"
        },
        "executionInfo": {
          "status": "ok",
          "timestamp": 1680285365587,
          "user_tz": -180,
          "elapsed": 322,
          "user": {
            "displayName": "Irina Orlova",
            "userId": "15513989829003395173"
          }
        },
        "outputId": "cce896e2-aee2-4dad-ef47-41dfae78bd16",
        "trusted": true
      },
      "execution_count": 31,
      "outputs": [
        {
          "name": "stdout",
          "text": "[-5.00000000e-01 -4.00000000e-01 -3.00000000e-01 -2.00000000e-01\n -1.00000000e-01 -1.11022302e-16  1.00000000e-01  2.00000000e-01\n  3.00000000e-01  4.00000000e-01]\n[-1. -1. -1. -1. -1. -1.  1.  1.  1.  1.]\n",
          "output_type": "stream"
        }
      ],
      "id": "6ee5777d"
    },
    {
      "cell_type": "markdown",
      "source": "#### 30. How to find common values between two arrays? (★☆☆)",
      "metadata": {
        "id": "56be1f05"
      },
      "id": "56be1f05"
    },
    {
      "cell_type": "code",
      "source": "array1 = np.array([24, 17, -3, 0, 10, 11, 15, -7, 14, 5])\narray2 = np.array([3, 4, -3, 0, 6, 11, 33, -10, 14, 8])\nprint(np.intersect1d(array1, array2))",
      "metadata": {
        "id": "62eeedc0",
        "colab": {
          "base_uri": "https://localhost:8080/"
        },
        "executionInfo": {
          "status": "ok",
          "timestamp": 1680285550819,
          "user_tz": -180,
          "elapsed": 10,
          "user": {
            "displayName": "Irina Orlova",
            "userId": "15513989829003395173"
          }
        },
        "outputId": "9062b5eb-b608-4718-a62a-c54bb577c2c8",
        "trusted": true
      },
      "execution_count": 32,
      "outputs": [
        {
          "name": "stdout",
          "text": "[-3  0 11 14]\n",
          "output_type": "stream"
        }
      ],
      "id": "62eeedc0"
    },
    {
      "cell_type": "markdown",
      "source": "#### 31. How to ignore all numpy warnings (not recommended)? (★☆☆)",
      "metadata": {
        "id": "83567c5c"
      },
      "id": "83567c5c"
    },
    {
      "cell_type": "code",
      "source": "defaults = np.seterr(all=\"ignore\")\nZ = np.ones(1) / 0\nprint(Z)\n_ = np.seterr(**defaults)",
      "metadata": {
        "id": "fa02b423",
        "colab": {
          "base_uri": "https://localhost:8080/"
        },
        "executionInfo": {
          "status": "ok",
          "timestamp": 1680285726709,
          "user_tz": -180,
          "elapsed": 281,
          "user": {
            "displayName": "Irina Orlova",
            "userId": "15513989829003395173"
          }
        },
        "outputId": "1e702a03-ba3b-48e4-c4e9-bde5605935d8",
        "trusted": true
      },
      "execution_count": 33,
      "outputs": [
        {
          "name": "stdout",
          "text": "[inf]\n",
          "output_type": "stream"
        }
      ],
      "id": "fa02b423"
    },
    {
      "cell_type": "markdown",
      "source": "#### 32. Is the following expressions true? (★☆☆)\n```python\nnp.sqrt(-1) == np.emath.sqrt(-1)\n```",
      "metadata": {
        "id": "0a7449b6"
      },
      "id": "0a7449b6"
    },
    {
      "cell_type": "code",
      "source": "print(np.sqrt(-1) == np.emath.sqrt(-1))",
      "metadata": {
        "id": "69eb4456",
        "colab": {
          "base_uri": "https://localhost:8080/"
        },
        "executionInfo": {
          "status": "ok",
          "timestamp": 1680285790532,
          "user_tz": -180,
          "elapsed": 8,
          "user": {
            "displayName": "Irina Orlova",
            "userId": "15513989829003395173"
          }
        },
        "outputId": "03c59085-e3f5-4d84-d924-2a9534fd2e75",
        "trusted": true
      },
      "execution_count": 34,
      "outputs": [
        {
          "name": "stdout",
          "text": "False\n",
          "output_type": "stream"
        }
      ],
      "id": "69eb4456"
    },
    {
      "cell_type": "markdown",
      "source": "#### 33. How to get the dates of yesterday, today and tomorrow? (★☆☆)",
      "metadata": {
        "id": "9d434219"
      },
      "id": "9d434219"
    },
    {
      "cell_type": "code",
      "source": "yesterday = np.datetime64('today', 'D') - np.timedelta64(1, 'D')\ntoday = np.datetime64('today', 'D')\ntomorrow  = np.datetime64('today', 'D') + np.timedelta64(1, 'D')\n\nprint(yesterday)\nprint(today)\nprint(tomorrow)",
      "metadata": {
        "id": "0b192943",
        "colab": {
          "base_uri": "https://localhost:8080/"
        },
        "executionInfo": {
          "status": "ok",
          "timestamp": 1680285843832,
          "user_tz": -180,
          "elapsed": 14,
          "user": {
            "displayName": "Irina Orlova",
            "userId": "15513989829003395173"
          }
        },
        "outputId": "e5f93499-4e94-4c42-c2eb-9932c873203d",
        "trusted": true
      },
      "execution_count": 35,
      "outputs": [
        {
          "name": "stdout",
          "text": "2023-04-07\n2023-04-08\n2023-04-09\n",
          "output_type": "stream"
        }
      ],
      "id": "0b192943"
    },
    {
      "cell_type": "markdown",
      "source": "#### 34. How to get all the dates corresponding to the month of July 2016? (★★☆)",
      "metadata": {
        "id": "b0e44339"
      },
      "id": "b0e44339"
    },
    {
      "cell_type": "code",
      "source": "dates = np.arange('2016-07', '2016-08', dtype='datetime64[D]')\nprint(dates)",
      "metadata": {
        "id": "8bf7daa6",
        "colab": {
          "base_uri": "https://localhost:8080/"
        },
        "executionInfo": {
          "status": "ok",
          "timestamp": 1680285878979,
          "user_tz": -180,
          "elapsed": 11,
          "user": {
            "displayName": "Irina Orlova",
            "userId": "15513989829003395173"
          }
        },
        "outputId": "e6fd56e9-7704-48a6-befe-7dd8630ba0b8",
        "trusted": true
      },
      "execution_count": 36,
      "outputs": [
        {
          "name": "stdout",
          "text": "['2016-07-01' '2016-07-02' '2016-07-03' '2016-07-04' '2016-07-05'\n '2016-07-06' '2016-07-07' '2016-07-08' '2016-07-09' '2016-07-10'\n '2016-07-11' '2016-07-12' '2016-07-13' '2016-07-14' '2016-07-15'\n '2016-07-16' '2016-07-17' '2016-07-18' '2016-07-19' '2016-07-20'\n '2016-07-21' '2016-07-22' '2016-07-23' '2016-07-24' '2016-07-25'\n '2016-07-26' '2016-07-27' '2016-07-28' '2016-07-29' '2016-07-30'\n '2016-07-31']\n",
          "output_type": "stream"
        }
      ],
      "id": "8bf7daa6"
    },
    {
      "cell_type": "markdown",
      "source": "#### 35. How to compute ((A+B)*(-A/2)) in place (without copy)? (★★☆)",
      "metadata": {
        "id": "f9b3c24a"
      },
      "id": "f9b3c24a"
    },
    {
      "cell_type": "code",
      "source": "A = np.ones(3)*1\nB = np.ones(3)*2\nC = np.ones(3)*3\nnp.add(A,B,out=B)\nnp.divide(A,2,out=A)\nnp.negative(A,out=A)\nnp.multiply(A,B,out=A)",
      "metadata": {
        "id": "40da18c9",
        "colab": {
          "base_uri": "https://localhost:8080/"
        },
        "executionInfo": {
          "status": "ok",
          "timestamp": 1680285907711,
          "user_tz": -180,
          "elapsed": 437,
          "user": {
            "displayName": "Irina Orlova",
            "userId": "15513989829003395173"
          }
        },
        "outputId": "9261d2a7-2534-4a8f-986b-8ecbd676320f",
        "trusted": true
      },
      "execution_count": 37,
      "outputs": [
        {
          "execution_count": 37,
          "output_type": "execute_result",
          "data": {
            "text/plain": "array([-1.5, -1.5, -1.5])"
          },
          "metadata": {}
        }
      ],
      "id": "40da18c9"
    },
    {
      "cell_type": "markdown",
      "source": "#### 36. Extract the integer part of a random array of positive numbers using 4 different methods (★★☆)",
      "metadata": {
        "id": "cbb64ee9"
      },
      "id": "cbb64ee9"
    },
    {
      "cell_type": "code",
      "source": "array = np.random.uniform(0,10,10)\nprint (array - array%1)\nprint (np.floor(array))\nprint (np.ceil(array)-1)\nprint (array.astype(int))\nprint (np.trunc(array))",
      "metadata": {
        "id": "f83748bd",
        "colab": {
          "base_uri": "https://localhost:8080/"
        },
        "executionInfo": {
          "status": "ok",
          "timestamp": 1680285961216,
          "user_tz": -180,
          "elapsed": 15,
          "user": {
            "displayName": "Irina Orlova",
            "userId": "15513989829003395173"
          }
        },
        "outputId": "04c5239d-e3d6-42e3-cda9-bf2e33d6c803",
        "trusted": true
      },
      "execution_count": 38,
      "outputs": [
        {
          "name": "stdout",
          "text": "[4. 7. 6. 0. 8. 4. 2. 1. 3. 7.]\n[4. 7. 6. 0. 8. 4. 2. 1. 3. 7.]\n[4. 7. 6. 0. 8. 4. 2. 1. 3. 7.]\n[4 7 6 0 8 4 2 1 3 7]\n[4. 7. 6. 0. 8. 4. 2. 1. 3. 7.]\n",
          "output_type": "stream"
        }
      ],
      "id": "f83748bd"
    },
    {
      "cell_type": "markdown",
      "source": "#### 37. Create a 5x5 matrix with row values ranging from 0 to 4 (★★☆)",
      "metadata": {
        "id": "8418e1e4"
      },
      "id": "8418e1e4"
    },
    {
      "cell_type": "code",
      "source": "matrix = np.zeros((5,5))\nmatrix+= np.arange(5)\nprint(matrix)",
      "metadata": {
        "id": "08e726e4",
        "colab": {
          "base_uri": "https://localhost:8080/"
        },
        "executionInfo": {
          "status": "ok",
          "timestamp": 1680285992936,
          "user_tz": -180,
          "elapsed": 16,
          "user": {
            "displayName": "Irina Orlova",
            "userId": "15513989829003395173"
          }
        },
        "outputId": "79d79f4b-32c7-42aa-9f1b-46f48f1bed44",
        "trusted": true
      },
      "execution_count": 39,
      "outputs": [
        {
          "name": "stdout",
          "text": "[[0. 1. 2. 3. 4.]\n [0. 1. 2. 3. 4.]\n [0. 1. 2. 3. 4.]\n [0. 1. 2. 3. 4.]\n [0. 1. 2. 3. 4.]]\n",
          "output_type": "stream"
        }
      ],
      "id": "08e726e4"
    },
    {
      "cell_type": "markdown",
      "source": "#### 38. Consider a generator function that generates 10 integers and use it to build an array (★☆☆)",
      "metadata": {
        "id": "a8420e2c"
      },
      "id": "a8420e2c"
    },
    {
      "cell_type": "code",
      "source": "def generate():\n    for x in range(10):\n        yield x\nZ = np.fromiter(generate(),dtype=int,count=-1)\nprint(Z)",
      "metadata": {
        "id": "c58e77ad",
        "colab": {
          "base_uri": "https://localhost:8080/"
        },
        "executionInfo": {
          "status": "ok",
          "timestamp": 1680286296720,
          "user_tz": -180,
          "elapsed": 289,
          "user": {
            "displayName": "Irina Orlova",
            "userId": "15513989829003395173"
          }
        },
        "outputId": "fc43df55-972c-46c7-9a2e-383fedffe354",
        "trusted": true
      },
      "execution_count": 40,
      "outputs": [
        {
          "name": "stdout",
          "text": "[0 1 2 3 4 5 6 7 8 9]\n",
          "output_type": "stream"
        }
      ],
      "id": "c58e77ad"
    },
    {
      "cell_type": "markdown",
      "source": "#### 39. Create a vector of size 10 with values ranging from 0 to 1, both excluded (★★☆)",
      "metadata": {
        "id": "deab3e77"
      },
      "id": "deab3e77"
    },
    {
      "cell_type": "code",
      "source": "arr_1 = np.linspace(0,1,11,endpoint=False)[1:]\nprint(arr_1)",
      "metadata": {
        "id": "2c5fafc8",
        "colab": {
          "base_uri": "https://localhost:8080/"
        },
        "executionInfo": {
          "status": "ok",
          "timestamp": 1680286372838,
          "user_tz": -180,
          "elapsed": 9,
          "user": {
            "displayName": "Irina Orlova",
            "userId": "15513989829003395173"
          }
        },
        "outputId": "20c3bc6c-43ea-4a16-b6c1-e9279320eb7f",
        "trusted": true
      },
      "execution_count": 41,
      "outputs": [
        {
          "name": "stdout",
          "text": "[0.09090909 0.18181818 0.27272727 0.36363636 0.45454545 0.54545455\n 0.63636364 0.72727273 0.81818182 0.90909091]\n",
          "output_type": "stream"
        }
      ],
      "id": "2c5fafc8"
    },
    {
      "cell_type": "markdown",
      "source": "#### 40. Create a random vector of size 10 and sort it (★★☆)",
      "metadata": {
        "id": "5bb5de9c"
      },
      "id": "5bb5de9c"
    },
    {
      "cell_type": "code",
      "source": "array = np.random.random(10)\nprint(array)\narray.sort()\nprint(array)",
      "metadata": {
        "id": "b9916965",
        "colab": {
          "base_uri": "https://localhost:8080/"
        },
        "executionInfo": {
          "status": "ok",
          "timestamp": 1680286547104,
          "user_tz": -180,
          "elapsed": 15,
          "user": {
            "displayName": "Irina Orlova",
            "userId": "15513989829003395173"
          }
        },
        "outputId": "deaa59ab-afd0-40ee-a185-d207d0298c63",
        "trusted": true
      },
      "execution_count": 42,
      "outputs": [
        {
          "name": "stdout",
          "text": "[0.82280727 0.97181724 0.73419466 0.32174769 0.07014786 0.49286828\n 0.08238851 0.2125099  0.13907002 0.41224808]\n[0.07014786 0.08238851 0.13907002 0.2125099  0.32174769 0.41224808\n 0.49286828 0.73419466 0.82280727 0.97181724]\n",
          "output_type": "stream"
        }
      ],
      "id": "b9916965"
    },
    {
      "cell_type": "markdown",
      "source": "#### 41. How to sum a small array faster than np.sum? (★★☆)",
      "metadata": {
        "id": "ebc8ad64"
      },
      "id": "ebc8ad64"
    },
    {
      "cell_type": "code",
      "source": "arr = np.arange(10)\nnp.add.reduce(arr)",
      "metadata": {
        "id": "e7ac9923",
        "colab": {
          "base_uri": "https://localhost:8080/"
        },
        "executionInfo": {
          "status": "ok",
          "timestamp": 1680286586094,
          "user_tz": -180,
          "elapsed": 8,
          "user": {
            "displayName": "Irina Orlova",
            "userId": "15513989829003395173"
          }
        },
        "outputId": "4ec70a1e-ba37-4b8e-e77e-7b330fb90304",
        "trusted": true
      },
      "execution_count": 43,
      "outputs": [
        {
          "execution_count": 43,
          "output_type": "execute_result",
          "data": {
            "text/plain": "45"
          },
          "metadata": {}
        }
      ],
      "id": "e7ac9923"
    },
    {
      "cell_type": "markdown",
      "source": "#### 42. Consider two random array A and B, check if they are equal (★★☆)",
      "metadata": {
        "id": "4abfb753"
      },
      "id": "4abfb753"
    },
    {
      "cell_type": "code",
      "source": "A = np.random.randint(0,2,5)\nB = np.random.randint(0,2,5)\n\nequal = np.allclose(A,B)\nprint(equal)\n\nequal = np.array_equal(A,B)\nprint(equal)",
      "metadata": {
        "id": "d265b5f6",
        "colab": {
          "base_uri": "https://localhost:8080/"
        },
        "executionInfo": {
          "status": "ok",
          "timestamp": 1680286677142,
          "user_tz": -180,
          "elapsed": 363,
          "user": {
            "displayName": "Irina Orlova",
            "userId": "15513989829003395173"
          }
        },
        "outputId": "615b6195-674a-4e12-af35-14bedcdf56e0",
        "trusted": true
      },
      "execution_count": 44,
      "outputs": [
        {
          "name": "stdout",
          "text": "False\nFalse\n",
          "output_type": "stream"
        }
      ],
      "id": "d265b5f6"
    },
    {
      "cell_type": "markdown",
      "source": "#### 43. Make an array immutable (read-only) (★★☆)",
      "metadata": {
        "id": "c8fad2be"
      },
      "id": "c8fad2be"
    },
    {
      "cell_type": "code",
      "source": "array = np.zeros(10)\narray.flags.writeable = False\narray[0] = 1",
      "metadata": {
        "id": "cadce095",
        "colab": {
          "base_uri": "https://localhost:8080/",
          "height": 200
        },
        "executionInfo": {
          "status": "error",
          "timestamp": 1680286699412,
          "user_tz": -180,
          "elapsed": 357,
          "user": {
            "displayName": "Irina Orlova",
            "userId": "15513989829003395173"
          }
        },
        "outputId": "3fabee32-468d-402d-cd79-856c29dc4152",
        "trusted": true
      },
      "execution_count": 45,
      "outputs": [
        {
          "ename": "<class 'ValueError'>",
          "evalue": "assignment destination is read-only",
          "traceback": [
            "\u001b[0;31m---------------------------------------------------------------------------\u001b[0m",
            "\u001b[0;31mValueError\u001b[0m                                Traceback (most recent call last)",
            "Cell \u001b[0;32mIn[45], line 3\u001b[0m\n\u001b[1;32m      1\u001b[0m array \u001b[38;5;241m=\u001b[39m np\u001b[38;5;241m.\u001b[39mzeros(\u001b[38;5;241m10\u001b[39m)\n\u001b[1;32m      2\u001b[0m array\u001b[38;5;241m.\u001b[39mflags\u001b[38;5;241m.\u001b[39mwriteable \u001b[38;5;241m=\u001b[39m \u001b[38;5;28;01mFalse\u001b[39;00m\n\u001b[0;32m----> 3\u001b[0m \u001b[43marray\u001b[49m\u001b[43m[\u001b[49m\u001b[38;5;241;43m0\u001b[39;49m\u001b[43m]\u001b[49m \u001b[38;5;241m=\u001b[39m \u001b[38;5;241m1\u001b[39m\n",
            "\u001b[0;31mValueError\u001b[0m: assignment destination is read-only"
          ],
          "output_type": "error"
        }
      ],
      "id": "cadce095"
    },
    {
      "cell_type": "markdown",
      "source": "#### 44. Consider a random 10x2 matrix representing cartesian coordinates, convert them to polar coordinates (★★☆)",
      "metadata": {
        "id": "91b25fb1"
      },
      "id": "91b25fb1"
    },
    {
      "cell_type": "code",
      "source": "matr = np.random.random((10,2))\nX,Y = matr[:,0], matr[:,1]\nR = np.sqrt(X**2+Y**2)\nT = np.arctan2(Y,X)\nprint(R)\nprint(T)",
      "metadata": {
        "id": "3f5fb344",
        "colab": {
          "base_uri": "https://localhost:8080/"
        },
        "executionInfo": {
          "status": "ok",
          "timestamp": 1680286780571,
          "user_tz": -180,
          "elapsed": 428,
          "user": {
            "displayName": "Irina Orlova",
            "userId": "15513989829003395173"
          }
        },
        "outputId": "5a4fb768-8351-46a5-e0dd-db770ba581cf",
        "trusted": true
      },
      "execution_count": 46,
      "outputs": [
        {
          "name": "stdout",
          "text": "[0.9920846  0.50634082 0.29866241 0.9112004  0.73891033 1.076183\n 0.91173286 0.20880544 0.475193   0.46135365]\n[0.46401728 1.51309625 0.74630763 1.21180932 1.23556703 0.59936361\n 1.37353195 1.42577914 1.26968341 1.01239576]\n",
          "output_type": "stream"
        }
      ],
      "id": "3f5fb344"
    },
    {
      "cell_type": "markdown",
      "source": "#### 45. Create random vector of size 10 and replace the maximum value by 0 (★★☆)",
      "metadata": {
        "id": "7e4116bc"
      },
      "id": "7e4116bc"
    },
    {
      "cell_type": "code",
      "source": "array = np.random.random(10)\nprint(array)\narray[array.argmax()] = 0\nprint(array)",
      "metadata": {
        "id": "b4e895f6",
        "colab": {
          "base_uri": "https://localhost:8080/"
        },
        "executionInfo": {
          "status": "ok",
          "timestamp": 1680286838479,
          "user_tz": -180,
          "elapsed": 270,
          "user": {
            "displayName": "Irina Orlova",
            "userId": "15513989829003395173"
          }
        },
        "outputId": "28b251b9-a65d-4f56-b2b3-1e2b5c18f922",
        "trusted": true
      },
      "execution_count": 47,
      "outputs": [
        {
          "name": "stdout",
          "text": "[0.71841001 0.19219582 0.19918001 0.98316651 0.01411291 0.44155644\n 0.60127322 0.44918086 0.03948536 0.18473754]\n[0.71841001 0.19219582 0.19918001 0.         0.01411291 0.44155644\n 0.60127322 0.44918086 0.03948536 0.18473754]\n",
          "output_type": "stream"
        }
      ],
      "id": "b4e895f6"
    },
    {
      "cell_type": "markdown",
      "source": "#### 46. Create a structured array with `x` and `y` coordinates covering the [0,1]x[0,1] area (★★☆)",
      "metadata": {
        "id": "f5b68c55"
      },
      "id": "f5b68c55"
    },
    {
      "cell_type": "code",
      "source": "Z = np.zeros((5,5), [('x',float),('y',float)])\nZ['x'], Z['y'] = np.meshgrid(np.linspace(0,1,5),\n                             np.linspace(0,1,5))\nprint(Z)",
      "metadata": {
        "id": "32fd3691",
        "trusted": true
      },
      "execution_count": 48,
      "outputs": [
        {
          "name": "stdout",
          "text": "[[(0.  , 0.  ) (0.25, 0.  ) (0.5 , 0.  ) (0.75, 0.  ) (1.  , 0.  )]\n [(0.  , 0.25) (0.25, 0.25) (0.5 , 0.25) (0.75, 0.25) (1.  , 0.25)]\n [(0.  , 0.5 ) (0.25, 0.5 ) (0.5 , 0.5 ) (0.75, 0.5 ) (1.  , 0.5 )]\n [(0.  , 0.75) (0.25, 0.75) (0.5 , 0.75) (0.75, 0.75) (1.  , 0.75)]\n [(0.  , 1.  ) (0.25, 1.  ) (0.5 , 1.  ) (0.75, 1.  ) (1.  , 1.  )]]\n",
          "output_type": "stream"
        }
      ],
      "id": "32fd3691"
    },
    {
      "cell_type": "markdown",
      "source": "#### 47. Given two arrays, X and Y, construct the Cauchy matrix C (Cij =1/(xi - yj)) (★★☆)",
      "metadata": {
        "id": "378bc4e9"
      },
      "id": "378bc4e9"
    },
    {
      "cell_type": "code",
      "source": "X = np.arange(8)\nY = X + 0.5\nC = 1.0 / np.subtract.outer(X, Y)\nprint(np.linalg.det(C))",
      "metadata": {
        "id": "43282e51",
        "trusted": true
      },
      "execution_count": 49,
      "outputs": [
        {
          "name": "stdout",
          "text": "3638.1636371179666\n",
          "output_type": "stream"
        }
      ],
      "id": "43282e51"
    },
    {
      "cell_type": "markdown",
      "source": "#### 48. Print the minimum and maximum representable value for each numpy scalar type (★★☆)",
      "metadata": {
        "id": "7f45d2f9"
      },
      "id": "7f45d2f9"
    },
    {
      "cell_type": "code",
      "source": "for dtype in [np.int8, np.int32, np.int64]:\n   print(np.iinfo(dtype).min)\n   print(np.iinfo(dtype).max)\nfor dtype in [np.float32, np.float64]:\n   print(np.finfo(dtype).min)\n   print(np.finfo(dtype).max)\n   print(np.finfo(dtype).eps)",
      "metadata": {
        "id": "a7f37b9e",
        "trusted": true
      },
      "execution_count": 50,
      "outputs": [
        {
          "name": "stdout",
          "text": "-128\n127\n-2147483648\n2147483647\n-9223372036854775808\n9223372036854775807\n-3.4028235e+38\n3.4028235e+38\n1.1920929e-07\n-1.7976931348623157e+308\n1.7976931348623157e+308\n2.220446049250313e-16\n",
          "output_type": "stream"
        }
      ],
      "id": "a7f37b9e"
    },
    {
      "cell_type": "markdown",
      "source": "#### 49. How to print all the values of an array? (★★☆)",
      "metadata": {
        "id": "1d269f07"
      },
      "id": "1d269f07"
    },
    {
      "cell_type": "code",
      "source": "np.set_printoptions(threshold=None)\nZ = np.zeros((16,16))\nprint(Z)",
      "metadata": {
        "id": "fde90b07",
        "trusted": true
      },
      "execution_count": 51,
      "outputs": [
        {
          "name": "stdout",
          "text": "[[0. 0. 0. 0. 0. 0. 0. 0. 0. 0. 0. 0. 0. 0. 0. 0.]\n [0. 0. 0. 0. 0. 0. 0. 0. 0. 0. 0. 0. 0. 0. 0. 0.]\n [0. 0. 0. 0. 0. 0. 0. 0. 0. 0. 0. 0. 0. 0. 0. 0.]\n [0. 0. 0. 0. 0. 0. 0. 0. 0. 0. 0. 0. 0. 0. 0. 0.]\n [0. 0. 0. 0. 0. 0. 0. 0. 0. 0. 0. 0. 0. 0. 0. 0.]\n [0. 0. 0. 0. 0. 0. 0. 0. 0. 0. 0. 0. 0. 0. 0. 0.]\n [0. 0. 0. 0. 0. 0. 0. 0. 0. 0. 0. 0. 0. 0. 0. 0.]\n [0. 0. 0. 0. 0. 0. 0. 0. 0. 0. 0. 0. 0. 0. 0. 0.]\n [0. 0. 0. 0. 0. 0. 0. 0. 0. 0. 0. 0. 0. 0. 0. 0.]\n [0. 0. 0. 0. 0. 0. 0. 0. 0. 0. 0. 0. 0. 0. 0. 0.]\n [0. 0. 0. 0. 0. 0. 0. 0. 0. 0. 0. 0. 0. 0. 0. 0.]\n [0. 0. 0. 0. 0. 0. 0. 0. 0. 0. 0. 0. 0. 0. 0. 0.]\n [0. 0. 0. 0. 0. 0. 0. 0. 0. 0. 0. 0. 0. 0. 0. 0.]\n [0. 0. 0. 0. 0. 0. 0. 0. 0. 0. 0. 0. 0. 0. 0. 0.]\n [0. 0. 0. 0. 0. 0. 0. 0. 0. 0. 0. 0. 0. 0. 0. 0.]\n [0. 0. 0. 0. 0. 0. 0. 0. 0. 0. 0. 0. 0. 0. 0. 0.]]\n",
          "output_type": "stream"
        }
      ],
      "id": "fde90b07"
    },
    {
      "cell_type": "markdown",
      "source": "#### 50. How to find the closest value (to a given scalar) in a vector? (★★☆)",
      "metadata": {
        "id": "ed655678"
      },
      "id": "ed655678"
    },
    {
      "cell_type": "code",
      "source": "Z = np.arange(100)\nv = np.random.uniform(0,100)\nindex = (np.abs(Z-v)).argmin()\nprint(Z[index])",
      "metadata": {
        "id": "55e0812f",
        "trusted": true
      },
      "execution_count": 52,
      "outputs": [
        {
          "name": "stdout",
          "text": "66\n",
          "output_type": "stream"
        }
      ],
      "id": "55e0812f"
    },
    {
      "cell_type": "markdown",
      "source": "#### 51. Create a structured array representing a position (x,y) and a color (r,g,b) (★★☆)",
      "metadata": {
        "id": "3f73f88f"
      },
      "id": "3f73f88f"
    },
    {
      "cell_type": "code",
      "source": "Z = np.zeros(10, [ ('position', [ ('x', float, (1,)),\n                                  ('y', float, (1,))]),\n                   ('color',    [ ('r', float, (1,)),\n                                  ('g', float, (1,)),\n                                  ('b', float, (1,))])])\nprint(Z)",
      "metadata": {
        "id": "74b51105",
        "colab": {
          "base_uri": "https://localhost:8080/"
        },
        "executionInfo": {
          "status": "ok",
          "timestamp": 1680288684862,
          "user_tz": -180,
          "elapsed": 316,
          "user": {
            "displayName": "Irina Orlova",
            "userId": "15513989829003395173"
          }
        },
        "outputId": "eebb7888-4664-469b-9d7c-181f61947c4e",
        "trusted": true
      },
      "execution_count": 53,
      "outputs": [
        {
          "name": "stdout",
          "text": "[(([0.], [0.]), ([0.], [0.], [0.])) (([0.], [0.]), ([0.], [0.], [0.]))\n (([0.], [0.]), ([0.], [0.], [0.])) (([0.], [0.]), ([0.], [0.], [0.]))\n (([0.], [0.]), ([0.], [0.], [0.])) (([0.], [0.]), ([0.], [0.], [0.]))\n (([0.], [0.]), ([0.], [0.], [0.])) (([0.], [0.]), ([0.], [0.], [0.]))\n (([0.], [0.]), ([0.], [0.], [0.])) (([0.], [0.]), ([0.], [0.], [0.]))]\n",
          "output_type": "stream"
        }
      ],
      "id": "74b51105"
    },
    {
      "cell_type": "markdown",
      "source": "#### 52. Consider a random vector with shape (100,2) representing coordinates, find point by point distances (★★☆)",
      "metadata": {
        "id": "db83eee0"
      },
      "id": "db83eee0"
    },
    {
      "cell_type": "code",
      "source": "Z = np.random.random((10,2))\nX,Y = np.atleast_2d(Z[:,0], Z[:,1])\nD = np.sqrt( (X-X.T)**2 + (Y-Y.T)**2)\nprint(D)",
      "metadata": {
        "id": "10884922",
        "colab": {
          "base_uri": "https://localhost:8080/"
        },
        "executionInfo": {
          "status": "ok",
          "timestamp": 1680287040433,
          "user_tz": -180,
          "elapsed": 7,
          "user": {
            "displayName": "Irina Orlova",
            "userId": "15513989829003395173"
          }
        },
        "outputId": "6216af5f-b6d3-49a2-bd02-40cfe129ba83",
        "trusted": true
      },
      "execution_count": 54,
      "outputs": [
        {
          "name": "stdout",
          "text": "[[0.         0.35742002 0.07729122 0.081815   0.52442348 0.19841912\n  0.60078015 0.39482862 0.6198603  0.38320911]\n [0.35742002 0.         0.31129236 0.41135563 0.64659455 0.52763409\n  0.26525176 0.09254477 0.2818238  0.29333437]\n [0.07729122 0.31129236 0.         0.10048112 0.47202737 0.27488286\n  0.56770579 0.33471474 0.55889974 0.30596081]\n [0.081815   0.41135563 0.10048112 0.         0.45900777 0.21704288\n  0.66516391 0.43403599 0.65734    0.37766199]\n [0.52442348 0.64659455 0.47202737 0.45900777 0.         0.66079906\n  0.89636365 0.59561542 0.73774662 0.37663413]\n [0.19841912 0.52763409 0.27488286 0.21704288 0.66079906 0.\n  0.74098525 0.58035915 0.80316462 0.58029611]\n [0.60078015 0.26525176 0.56770579 0.66516391 0.89636365 0.74098525\n  0.         0.30079397 0.27110154 0.52405323]\n [0.39482862 0.09254477 0.33471474 0.43403599 0.59561542 0.58035915\n  0.30079397 0.         0.22505954 0.22492516]\n [0.6198603  0.2818238  0.55889974 0.65734    0.73774662 0.80316462\n  0.27110154 0.22505954 0.         0.37028095]\n [0.38320911 0.29333437 0.30596081 0.37766199 0.37663413 0.58029611\n  0.52405323 0.22492516 0.37028095 0.        ]]\n",
          "output_type": "stream"
        }
      ],
      "id": "10884922"
    },
    {
      "cell_type": "markdown",
      "source": "#### 53. How to convert a float (32 bits) array into an integer (32 bits) in place?",
      "metadata": {
        "id": "b90e0bb2"
      },
      "id": "b90e0bb2"
    },
    {
      "cell_type": "code",
      "source": "Z = (np.random.rand(10)*100).astype(np.float32)\nprint(Z)\nY = Z.view(np.int32)\nY[:] = Z\nprint(Y)",
      "metadata": {
        "id": "db97ea05",
        "colab": {
          "base_uri": "https://localhost:8080/"
        },
        "executionInfo": {
          "status": "ok",
          "timestamp": 1680287078100,
          "user_tz": -180,
          "elapsed": 9,
          "user": {
            "displayName": "Irina Orlova",
            "userId": "15513989829003395173"
          }
        },
        "outputId": "dd5f2dff-ab3b-49aa-94e5-7289c5519ca5",
        "trusted": true
      },
      "execution_count": 55,
      "outputs": [
        {
          "name": "stdout",
          "text": "[83.04175   70.35703    3.2632763 24.309902  19.232632  29.93916\n 88.89708   12.424324  75.65498   27.580639 ]\n[83 70  3 24 19 29 88 12 75 27]\n",
          "output_type": "stream"
        }
      ],
      "id": "db97ea05"
    },
    {
      "cell_type": "markdown",
      "source": "#### 54. How to read the following file? (★★☆)\n```\n1, 2, 3, 4, 5\n6,  ,  , 7, 8\n ,  , 9,10,11\n```",
      "metadata": {
        "id": "0d1b021c"
      },
      "id": "0d1b021c"
    },
    {
      "cell_type": "code",
      "source": "from io import StringIO\ns = StringIO('''1, 2, 3, 4, 5\n                6,  ,  , 7, 8\n                 ,  , 9,10,11\n''')\nZ = np.genfromtxt(s, delimiter=\",\", dtype=np.int32)\nprint(Z)",
      "metadata": {
        "id": "9551928e",
        "colab": {
          "base_uri": "https://localhost:8080/"
        },
        "executionInfo": {
          "status": "ok",
          "timestamp": 1680287820617,
          "user_tz": -180,
          "elapsed": 12,
          "user": {
            "displayName": "Irina Orlova",
            "userId": "15513989829003395173"
          }
        },
        "outputId": "c0d431f7-2ace-4de6-8df3-913fdc2bfcb4",
        "trusted": true
      },
      "execution_count": 56,
      "outputs": [
        {
          "name": "stdout",
          "text": "[[ 1  2  3  4  5]\n [ 6 -1 -1  7  8]\n [-1 -1  9 10 11]]\n",
          "output_type": "stream"
        }
      ],
      "id": "9551928e"
    },
    {
      "cell_type": "markdown",
      "source": "#### 55. What is the equivalent of enumerate for numpy arrays? (★★☆)",
      "metadata": {
        "id": "56928772"
      },
      "id": "56928772"
    },
    {
      "cell_type": "code",
      "source": "Z = np.arange(9).reshape(3,3)\nfor index, value in np.ndenumerate(Z):\n    print(index, value)\nfor index in np.ndindex(Z.shape):\n    print(index, Z[index])",
      "metadata": {
        "id": "327d9b88",
        "colab": {
          "base_uri": "https://localhost:8080/"
        },
        "executionInfo": {
          "status": "ok",
          "timestamp": 1680287926274,
          "user_tz": -180,
          "elapsed": 281,
          "user": {
            "displayName": "Irina Orlova",
            "userId": "15513989829003395173"
          }
        },
        "outputId": "171dae4b-5617-4f65-d715-7fde247db223",
        "trusted": true
      },
      "execution_count": 57,
      "outputs": [
        {
          "name": "stdout",
          "text": "(0, 0) 0\n(0, 1) 1\n(0, 2) 2\n(1, 0) 3\n(1, 1) 4\n(1, 2) 5\n(2, 0) 6\n(2, 1) 7\n(2, 2) 8\n(0, 0) 0\n(0, 1) 1\n(0, 2) 2\n(1, 0) 3\n(1, 1) 4\n(1, 2) 5\n(2, 0) 6\n(2, 1) 7\n(2, 2) 8\n",
          "output_type": "stream"
        }
      ],
      "id": "327d9b88"
    },
    {
      "cell_type": "markdown",
      "source": "#### 56. Generate a generic 2D Gaussian-like array (★★☆)",
      "metadata": {
        "id": "257e0bac"
      },
      "id": "257e0bac"
    },
    {
      "cell_type": "code",
      "source": "X, Y = np.meshgrid(np.linspace(-1,1,10), np.linspace(-1,1,10))\nD = np.sqrt(X*X+Y*Y)\nsigma, mu = 1.0, 0.0\nG = np.exp(-( (D-mu)**2 / ( 2.0 * sigma**2 ) ) )\nprint(G)",
      "metadata": {
        "id": "1325d664",
        "trusted": true
      },
      "execution_count": 58,
      "outputs": [
        {
          "name": "stdout",
          "text": "[[0.36787944 0.44822088 0.51979489 0.57375342 0.60279818 0.60279818\n  0.57375342 0.51979489 0.44822088 0.36787944]\n [0.44822088 0.54610814 0.63331324 0.69905581 0.73444367 0.73444367\n  0.69905581 0.63331324 0.54610814 0.44822088]\n [0.51979489 0.63331324 0.73444367 0.81068432 0.85172308 0.85172308\n  0.81068432 0.73444367 0.63331324 0.51979489]\n [0.57375342 0.69905581 0.81068432 0.89483932 0.9401382  0.9401382\n  0.89483932 0.81068432 0.69905581 0.57375342]\n [0.60279818 0.73444367 0.85172308 0.9401382  0.98773022 0.98773022\n  0.9401382  0.85172308 0.73444367 0.60279818]\n [0.60279818 0.73444367 0.85172308 0.9401382  0.98773022 0.98773022\n  0.9401382  0.85172308 0.73444367 0.60279818]\n [0.57375342 0.69905581 0.81068432 0.89483932 0.9401382  0.9401382\n  0.89483932 0.81068432 0.69905581 0.57375342]\n [0.51979489 0.63331324 0.73444367 0.81068432 0.85172308 0.85172308\n  0.81068432 0.73444367 0.63331324 0.51979489]\n [0.44822088 0.54610814 0.63331324 0.69905581 0.73444367 0.73444367\n  0.69905581 0.63331324 0.54610814 0.44822088]\n [0.36787944 0.44822088 0.51979489 0.57375342 0.60279818 0.60279818\n  0.57375342 0.51979489 0.44822088 0.36787944]]\n",
          "output_type": "stream"
        }
      ],
      "id": "1325d664"
    },
    {
      "cell_type": "markdown",
      "source": "#### 57. How to randomly place p elements in a 2D array? (★★☆)",
      "metadata": {
        "id": "441347ee"
      },
      "id": "441347ee"
    },
    {
      "cell_type": "code",
      "source": "n = 10\np = 3\nZ = np.zeros((n,n))\nnp.put(Z, np.random.choice(range(n*n), p, replace=False),1)\nprint(Z)",
      "metadata": {
        "id": "1e61fce5",
        "trusted": true
      },
      "execution_count": 59,
      "outputs": [
        {
          "name": "stdout",
          "text": "[[0. 0. 0. 0. 0. 0. 0. 0. 0. 0.]\n [0. 0. 0. 0. 1. 0. 0. 0. 0. 0.]\n [0. 0. 0. 1. 0. 0. 0. 0. 0. 0.]\n [0. 0. 0. 0. 0. 0. 0. 0. 0. 0.]\n [0. 0. 0. 0. 0. 0. 0. 0. 0. 0.]\n [0. 0. 0. 0. 0. 0. 0. 0. 0. 0.]\n [0. 0. 0. 0. 0. 0. 0. 0. 0. 0.]\n [0. 0. 0. 0. 0. 0. 0. 0. 0. 0.]\n [0. 0. 0. 0. 0. 0. 0. 0. 0. 0.]\n [0. 0. 0. 0. 0. 0. 0. 0. 0. 1.]]\n",
          "output_type": "stream"
        }
      ],
      "id": "1e61fce5"
    },
    {
      "cell_type": "markdown",
      "source": "#### 58. Subtract the mean of each row of a matrix (★★☆)",
      "metadata": {
        "id": "8a76af52"
      },
      "id": "8a76af52"
    },
    {
      "cell_type": "code",
      "source": "X = np.random.rand(5, 10)\nY = X - X.mean(axis=1, keepdims=True)\nY = X - X.mean(axis=1).reshape(-1, 1)\nprint(Y)",
      "metadata": {
        "id": "65cf18e9",
        "trusted": true
      },
      "execution_count": 60,
      "outputs": [
        {
          "name": "stdout",
          "text": "[[ 0.46417169 -0.23429117  0.08388607  0.21773594 -0.4112927  -0.00748926\n  -0.27703882  0.25655721 -0.43641135  0.34417239]\n [ 0.10977631 -0.53619139  0.09549469 -0.33902063  0.08183602  0.00890118\n   0.14132173  0.14636141  0.37877295 -0.08725226]\n [-0.3288949  -0.00549487  0.30163616  0.24890535 -0.31156964  0.27456231\n  -0.06707531 -0.23205637  0.21057603 -0.09058875]\n [-0.50628767 -0.06680908  0.06864843  0.3638979   0.11092262  0.33735005\n  -0.3884334  -0.00086806 -0.14348194  0.22506115]\n [ 0.26063063  0.09990728  0.17684849  0.28685681 -0.25961485 -0.32704181\n  -0.37001671  0.20829702  0.02197807 -0.09784494]]\n",
          "output_type": "stream"
        }
      ],
      "id": "65cf18e9"
    },
    {
      "cell_type": "markdown",
      "source": "#### 59. How to sort an array by the nth column? (★★☆)",
      "metadata": {
        "id": "d2dc8b5f"
      },
      "id": "d2dc8b5f"
    },
    {
      "cell_type": "code",
      "source": "Z = np.random.randint(0,10,(3,3))\nprint(Z)\nprint(Z[Z[:,1].argsort()])",
      "metadata": {
        "id": "83b5eafe",
        "trusted": true
      },
      "execution_count": 61,
      "outputs": [
        {
          "name": "stdout",
          "text": "[[9 7 3]\n [9 8 8]\n [2 6 2]]\n[[2 6 2]\n [9 7 3]\n [9 8 8]]\n",
          "output_type": "stream"
        }
      ],
      "id": "83b5eafe"
    },
    {
      "cell_type": "markdown",
      "source": "#### 60. How to tell if a given 2D array has null columns? (★★☆)",
      "metadata": {
        "id": "4886f74e"
      },
      "id": "4886f74e"
    },
    {
      "cell_type": "code",
      "source": "Z = np.random.randint(0,3,(3,10))\nprint((~Z.any(axis=0)).any())",
      "metadata": {
        "id": "7a066dd9",
        "trusted": true
      },
      "execution_count": 62,
      "outputs": [
        {
          "name": "stdout",
          "text": "True\n",
          "output_type": "stream"
        }
      ],
      "id": "7a066dd9"
    },
    {
      "cell_type": "markdown",
      "source": "#### 61. Find the nearest value from a given value in an array (★★☆)",
      "metadata": {
        "id": "1f5ad2a9"
      },
      "id": "1f5ad2a9"
    },
    {
      "cell_type": "code",
      "source": "Z = np.random.uniform(0,1,10)\nz = 0.5\nm = Z.flat[np.abs(Z - z).argmin()]\nprint(m)",
      "metadata": {
        "id": "f53df167",
        "trusted": true
      },
      "execution_count": 63,
      "outputs": [
        {
          "name": "stdout",
          "text": "0.5407699936217414\n",
          "output_type": "stream"
        }
      ],
      "id": "f53df167"
    },
    {
      "cell_type": "markdown",
      "source": "#### 62. Considering two arrays with shape (1,3) and (3,1), how to compute their sum using an iterator? (★★☆)",
      "metadata": {
        "id": "aa48f9b2"
      },
      "id": "aa48f9b2"
    },
    {
      "cell_type": "code",
      "source": "A = np.arange(3).reshape(3,1)\nB = np.arange(3).reshape(1,3)\nit = np.nditer([A,B,None])\nfor x,y,z in it: z[...] = x + y\nprint(it.operands[2])",
      "metadata": {
        "id": "68987301",
        "trusted": true
      },
      "execution_count": 64,
      "outputs": [
        {
          "name": "stdout",
          "text": "[[0 1 2]\n [1 2 3]\n [2 3 4]]\n",
          "output_type": "stream"
        }
      ],
      "id": "68987301"
    },
    {
      "cell_type": "markdown",
      "source": "#### 63. Create an array class that has a name attribute (★★☆)",
      "metadata": {
        "id": "0bed1516"
      },
      "id": "0bed1516"
    },
    {
      "cell_type": "code",
      "source": "class NamedArray(np.ndarray):\n    def __new__(cls, array, name=\"no name\"):\n        obj = np.asarray(array).view(cls)\n        obj.name = name\n        return obj\n    def __array_finalize__(self, obj):\n        if obj is None: return\n        self.info = getattr(obj, 'name', \"no name\")\nZ = NamedArray(np.arange(10), \"range_10\")\nprint (Z.name)",
      "metadata": {
        "id": "fa1d52fc",
        "trusted": true
      },
      "execution_count": 65,
      "outputs": [
        {
          "name": "stdout",
          "text": "range_10\n",
          "output_type": "stream"
        }
      ],
      "id": "fa1d52fc"
    },
    {
      "cell_type": "markdown",
      "source": "#### 64. Consider a given vector, how to add 1 to each element indexed by a second vector (be careful with repeated indices)? (★★★)",
      "metadata": {
        "id": "463a40bb"
      },
      "id": "463a40bb"
    },
    {
      "cell_type": "code",
      "source": "Z = np.ones(10)\nI = np.random.randint(0,len(Z),20)\nZ += np.bincount(I, minlength=len(Z))\nprint(Z)\nnp.add.at(Z, I, 1)\nprint(Z)",
      "metadata": {
        "id": "cdb2cad0",
        "trusted": true
      },
      "execution_count": 66,
      "outputs": [
        {
          "name": "stdout",
          "text": "[7. 2. 5. 1. 1. 1. 5. 3. 3. 2.]\n[13.  3.  9.  1.  1.  1.  9.  5.  5.  3.]\n",
          "output_type": "stream"
        }
      ],
      "id": "cdb2cad0"
    },
    {
      "cell_type": "markdown",
      "source": "#### 65. How to accumulate elements of a vector (X) to an array (F) based on an index list (I)? (★★★)",
      "metadata": {
        "id": "2a2f8219"
      },
      "id": "2a2f8219"
    },
    {
      "cell_type": "code",
      "source": "X = [1,2,3,4,5,6]\nI = [1,3,9,3,4,1]\nF = np.bincount(I,X)\nprint(F)",
      "metadata": {
        "id": "9cc34a77",
        "trusted": true
      },
      "execution_count": 67,
      "outputs": [
        {
          "name": "stdout",
          "text": "[0. 7. 0. 6. 5. 0. 0. 0. 0. 3.]\n",
          "output_type": "stream"
        }
      ],
      "id": "9cc34a77"
    },
    {
      "cell_type": "markdown",
      "source": "#### 66. Considering a (w,h,3) image of (dtype=ubyte), compute the number of unique colors (★★☆)",
      "metadata": {
        "id": "6a6a3c66"
      },
      "id": "6a6a3c66"
    },
    {
      "cell_type": "code",
      "source": "w,h = 16,16\nI = np.random.randint(0,2,(h,w,3)).astype(np.ubyte)\nF = I[...,0]*256*256 + I[...,1]*256 +I[...,2]\nn = len(np.unique(F))\nprint(np.unique(I))",
      "metadata": {
        "id": "c88f5a5e",
        "trusted": true
      },
      "execution_count": 68,
      "outputs": [
        {
          "name": "stdout",
          "text": "[0 1]\n",
          "output_type": "stream"
        }
      ],
      "id": "c88f5a5e"
    },
    {
      "cell_type": "markdown",
      "source": "#### 67. Considering a four dimensions array, how to get sum over the last two axis at once? (★★★)",
      "metadata": {
        "id": "4b030baa"
      },
      "id": "4b030baa"
    },
    {
      "cell_type": "code",
      "source": "A = np.random.randint(0,10,(3,4,3,4))\nsum = A.sum(axis=(-2,-1))\nprint(sum)\n\n\nsum = A.reshape(A.shape[:-2] + (-1,)).sum(axis=-1)\nprint(sum)",
      "metadata": {
        "id": "cd2e7c9c",
        "trusted": true
      },
      "execution_count": 69,
      "outputs": [
        {
          "name": "stdout",
          "text": "[[52 52 46 47]\n [53 60 58 44]\n [46 53 44 50]]\n[[52 52 46 47]\n [53 60 58 44]\n [46 53 44 50]]\n",
          "output_type": "stream"
        }
      ],
      "id": "cd2e7c9c"
    },
    {
      "cell_type": "markdown",
      "source": "#### 68. Considering a one-dimensional vector D, how to compute means of subsets of D using a vector S of same size describing subset  indices? (★★★)",
      "metadata": {
        "id": "1fa6053b"
      },
      "id": "1fa6053b"
    },
    {
      "cell_type": "code",
      "source": "D = np.random.uniform(0,1,100)\nS = np.random.randint(0,10,100)\nD_sums = np.bincount(S, weights=D)\nD_counts = np.bincount(S)\nD_means = D_sums / D_counts\nprint(D_means)\n\nimport pandas as pd\nprint(pd.Series(D).groupby(S).mean())",
      "metadata": {
        "id": "9b5a070d",
        "trusted": true
      },
      "execution_count": 70,
      "outputs": [
        {
          "name": "stdout",
          "text": "[0.40319411 0.63998767 0.19906383 0.53389869 0.70431089 0.36807937\n 0.42886514 0.41929399 0.56374162 0.56844586]\n0    0.403194\n1    0.639988\n2    0.199064\n3    0.533899\n4    0.704311\n5    0.368079\n6    0.428865\n7    0.419294\n8    0.563742\n9    0.568446\ndtype: float64\n",
          "output_type": "stream"
        }
      ],
      "id": "9b5a070d"
    },
    {
      "cell_type": "markdown",
      "source": "#### 69. How to get the diagonal of a dot product? (★★★)",
      "metadata": {
        "id": "2e7b0395"
      },
      "id": "2e7b0395"
    },
    {
      "cell_type": "code",
      "source": "A = np.random.uniform(0,1,(5,5))\nB = np.random.uniform(0,1,(5,5))\n\nnp.diag(np.dot(A, B))\n\nnp.sum(A * B.T, axis=1)\n\nnp.einsum(\"ij,ji->i\", A, B)",
      "metadata": {
        "id": "ae437196",
        "trusted": true
      },
      "execution_count": 71,
      "outputs": [
        {
          "execution_count": 71,
          "output_type": "execute_result",
          "data": {
            "text/plain": "array([0.95742951, 1.28379084, 1.29349268, 1.43708425, 1.47913062])"
          },
          "metadata": {}
        }
      ],
      "id": "ae437196"
    },
    {
      "cell_type": "markdown",
      "source": "#### 70. Consider the vector [1, 2, 3, 4, 5], how to build a new vector with 3 consecutive zeros interleaved between each value? (★★★)",
      "metadata": {
        "id": "2bf2f8e4"
      },
      "id": "2bf2f8e4"
    },
    {
      "cell_type": "code",
      "source": "Z = np.array([1,2,3,4,5])\nnz = 3\nZ0 = np.zeros(len(Z) + (len(Z)-1)*(nz))\nZ0[::nz+1] = Z\nprint(Z0)",
      "metadata": {
        "id": "8a427342",
        "trusted": true
      },
      "execution_count": 72,
      "outputs": [
        {
          "name": "stdout",
          "text": "[1. 0. 0. 0. 2. 0. 0. 0. 3. 0. 0. 0. 4. 0. 0. 0. 5.]\n",
          "output_type": "stream"
        }
      ],
      "id": "8a427342"
    },
    {
      "cell_type": "markdown",
      "source": "#### 71. Consider an array of dimension (5,5,3), how to mulitply it by an array with dimensions (5,5)? (★★★)",
      "metadata": {
        "id": "fff802ea"
      },
      "id": "fff802ea"
    },
    {
      "cell_type": "code",
      "source": "A = np.ones((5,5,3))\nB = 2*np.ones((5,5))\nprint(A * B[:,:,None])",
      "metadata": {
        "id": "e83ab7b5",
        "trusted": true
      },
      "execution_count": 73,
      "outputs": [
        {
          "name": "stdout",
          "text": "[[[2. 2. 2.]\n  [2. 2. 2.]\n  [2. 2. 2.]\n  [2. 2. 2.]\n  [2. 2. 2.]]\n\n [[2. 2. 2.]\n  [2. 2. 2.]\n  [2. 2. 2.]\n  [2. 2. 2.]\n  [2. 2. 2.]]\n\n [[2. 2. 2.]\n  [2. 2. 2.]\n  [2. 2. 2.]\n  [2. 2. 2.]\n  [2. 2. 2.]]\n\n [[2. 2. 2.]\n  [2. 2. 2.]\n  [2. 2. 2.]\n  [2. 2. 2.]\n  [2. 2. 2.]]\n\n [[2. 2. 2.]\n  [2. 2. 2.]\n  [2. 2. 2.]\n  [2. 2. 2.]\n  [2. 2. 2.]]]\n",
          "output_type": "stream"
        }
      ],
      "id": "e83ab7b5"
    },
    {
      "cell_type": "markdown",
      "source": "#### 72. How to swap two rows of an array? (★★★)",
      "metadata": {
        "id": "a0865c04"
      },
      "id": "a0865c04"
    },
    {
      "cell_type": "code",
      "source": "A = np.arange(25).reshape(5,5)\nA[[0,1]] = A[[1,0]]\nprint(A)",
      "metadata": {
        "id": "bb510428",
        "trusted": true
      },
      "execution_count": 74,
      "outputs": [
        {
          "name": "stdout",
          "text": "[[ 5  6  7  8  9]\n [ 0  1  2  3  4]\n [10 11 12 13 14]\n [15 16 17 18 19]\n [20 21 22 23 24]]\n",
          "output_type": "stream"
        }
      ],
      "id": "bb510428"
    },
    {
      "cell_type": "markdown",
      "source": "#### 73. Consider a set of 10 triplets describing 10 triangles (with shared vertices), find the set of unique line segments composing all the  triangles (★★★)",
      "metadata": {
        "id": "52beda8d"
      },
      "id": "52beda8d"
    },
    {
      "cell_type": "code",
      "source": "faces = np.random.randint(0,100,(10,3))\nF = np.roll(faces.repeat(2,axis=1),-1,axis=1)\nF = F.reshape(len(F)*3,2)\nF = np.sort(F,axis=1)\nG = F.view( dtype=[('p0',F.dtype),('p1',F.dtype)] )\nG = np.unique(G)\nprint(G)",
      "metadata": {
        "id": "5b9895de",
        "trusted": true
      },
      "execution_count": 75,
      "outputs": [
        {
          "name": "stdout",
          "text": "[( 0, 41) ( 0, 58) ( 2,  3) ( 2, 83) ( 3, 83) ( 6, 60) ( 6, 82) (10, 73)\n (10, 83) (13, 30) (13, 60) (16, 76) (16, 94) (23, 25) (23, 95) (25, 95)\n (27, 55) (27, 78) (28, 49) (28, 87) (30, 60) (41, 58) (46, 59) (46, 74)\n (49, 87) (55, 78) (59, 74) (60, 82) (73, 83) (76, 94)]\n",
          "output_type": "stream"
        }
      ],
      "id": "5b9895de"
    },
    {
      "cell_type": "markdown",
      "source": "#### 74. Given a sorted array C that corresponds to a bincount, how to produce an array A such that np.bincount(A) == C? (★★★)",
      "metadata": {
        "id": "b1f8e571"
      },
      "id": "b1f8e571"
    },
    {
      "cell_type": "code",
      "source": "C = np.bincount([1,1,2,3,4,4,6])\nA = np.repeat(np.arange(len(C)), C)\nprint(A)",
      "metadata": {
        "id": "ea6d42e9",
        "trusted": true
      },
      "execution_count": 76,
      "outputs": [
        {
          "name": "stdout",
          "text": "[1 1 2 3 4 4 6]\n",
          "output_type": "stream"
        }
      ],
      "id": "ea6d42e9"
    },
    {
      "cell_type": "markdown",
      "source": "#### 75. How to compute averages using a sliding window over an array? (★★★)",
      "metadata": {
        "id": "db1ed658"
      },
      "id": "db1ed658"
    },
    {
      "cell_type": "code",
      "source": "def moving_average(a, n=3) :\n    ret = np.cumsum(a, dtype=float)\n    ret[n:] = ret[n:] - ret[:-n]\n    return ret[n - 1:] / n\nZ = np.arange(20)\nprint(moving_average(Z, n=3))",
      "metadata": {
        "id": "9dc6a98a",
        "trusted": true
      },
      "execution_count": 77,
      "outputs": [
        {
          "name": "stdout",
          "text": "[ 1.  2.  3.  4.  5.  6.  7.  8.  9. 10. 11. 12. 13. 14. 15. 16. 17. 18.]\n",
          "output_type": "stream"
        }
      ],
      "id": "9dc6a98a"
    },
    {
      "cell_type": "markdown",
      "source": "#### 76. Consider a one-dimensional array Z, build a two-dimensional array whose first row is (Z[0],Z[1],Z[2]) and each subsequent row is  shifted by 1 (last row should be (Z[-3],Z[-2],Z[-1]) (★★★)",
      "metadata": {
        "id": "1ca35bda"
      },
      "id": "1ca35bda"
    },
    {
      "cell_type": "code",
      "source": "from numpy.lib import stride_tricks\ndef rolling(a, window):\n    shape = (a.size - window + 1, window)\n    strides = (a.itemsize, a.itemsize)\n    return stride_tricks.as_strided(a, shape=shape, strides=strides)\nZ = rolling(np.arange(10), 3)\nprint(Z)",
      "metadata": {
        "id": "900e8b0a",
        "trusted": true
      },
      "execution_count": 78,
      "outputs": [
        {
          "name": "stdout",
          "text": "[[0 1 2]\n [1 2 3]\n [2 3 4]\n [3 4 5]\n [4 5 6]\n [5 6 7]\n [6 7 8]\n [7 8 9]]\n",
          "output_type": "stream"
        }
      ],
      "id": "900e8b0a"
    },
    {
      "cell_type": "markdown",
      "source": "#### 77. How to negate a boolean, or to change the sign of a float inplace? (★★★)",
      "metadata": {
        "id": "18bd6fab"
      },
      "id": "18bd6fab"
    },
    {
      "cell_type": "code",
      "source": "Z = np.random.randint(0,2,100)\nnp.logical_not(Z, out=Z)\nZ = np.random.uniform(-1.0,1.0,100)\nnp.negative(Z, out=Z)",
      "metadata": {
        "id": "554c5103",
        "trusted": true
      },
      "execution_count": 79,
      "outputs": [
        {
          "execution_count": 79,
          "output_type": "execute_result",
          "data": {
            "text/plain": "array([-0.15181458,  0.87404143,  0.83106622, -0.66636991,  0.03276151,\n       -0.39269084, -0.34507292,  0.10832931,  0.58492943,  0.23645746,\n        0.22866072, -0.54174194,  0.87272681, -0.3363407 , -0.24969929,\n        0.97948628,  0.82437156, -0.44582198,  0.96224907,  0.31785087,\n        0.38735125,  0.81400394,  0.73891596,  0.96483176,  0.87543022,\n        0.82552709,  0.56268921, -0.69504914,  0.91161088,  0.31552407,\n        0.87373825,  0.38760884, -0.49388814,  0.61213983,  0.72556768,\n       -0.62463206,  0.90362317,  0.12126584, -0.12339166, -0.66013595,\n       -0.15123998, -0.90853019, -0.95831985, -0.29980413,  0.0716508 ,\n        0.97994766,  0.74331323, -0.78084571, -0.86201064,  0.76674704,\n       -0.71949736, -0.73393157,  0.39417412, -0.09159418,  0.779034  ,\n        0.78428136, -0.91916177, -0.05132251,  0.15458129, -0.27479888,\n       -0.59971303, -0.89866668, -0.40792663,  0.61099418, -0.04947365,\n        0.30884747, -0.3134027 ,  0.19985241,  0.58609006,  0.96788344,\n       -0.30944529,  0.25338999, -0.30932163, -0.13757356,  0.70389415,\n       -0.10278267,  0.81332418,  0.81869969,  0.95708819,  0.57948979,\n       -0.03980284, -0.84029243,  0.958372  ,  0.38606329, -0.15130182,\n        0.97960705,  0.96210545, -0.63865518,  0.18186922, -0.36470487,\n       -0.5354149 , -0.38825279,  0.79751701,  0.1506303 , -0.47207589,\n        0.33272199,  0.85210728, -0.05142105, -0.53210074, -0.52918008])"
          },
          "metadata": {}
        }
      ],
      "id": "554c5103"
    },
    {
      "cell_type": "markdown",
      "source": "#### 78. Consider 2 sets of points P0,P1 describing lines (2d) and a point p, how to compute distance from p to each line i (P0[i],P1[i])? (★★★)",
      "metadata": {
        "id": "79a5b412"
      },
      "id": "79a5b412"
    },
    {
      "cell_type": "code",
      "source": "def distance(P0, P1, p):\n    T = P1 - P0\n    L = (T**2).sum(axis=1)\n    U = -((P0[:,0]-p[...,0])*T[:,0] + (P0[:,1]-p[...,1])*T[:,1]) / L\n    U = U.reshape(len(U),1)\n    D = P0 + U*T - p\n    return np.sqrt((D**2).sum(axis=1))\nP0 = np.random.uniform(-10,10,(10,2))\nP1 = np.random.uniform(-10,10,(10,2))\np  = np.random.uniform(-10,10,( 1,2))\nprint(distance(P0, P1, p))",
      "metadata": {
        "id": "4e4eac2f",
        "trusted": true
      },
      "execution_count": 80,
      "outputs": [
        {
          "name": "stdout",
          "text": "[ 4.9152098   6.03301514  0.6193232   8.69887055  5.12541837  3.31133545\n  5.47147145  6.44693558 12.66151029  0.10485492]\n",
          "output_type": "stream"
        }
      ],
      "id": "4e4eac2f"
    },
    {
      "cell_type": "markdown",
      "source": "#### 79. Consider 2 sets of points P0,P1 describing lines (2d) and a set of points P, how to compute distance from each point j (P[j]) to each line i (P0[i],P1[i])? (★★★)",
      "metadata": {
        "id": "33ffa66d"
      },
      "id": "33ffa66d"
    },
    {
      "cell_type": "code",
      "source": "P0 = np.random.uniform(-10, 10, (10,2))\nP1 = np.random.uniform(-10,10,(10,2))\np = np.random.uniform(-10, 10, (10,2))\nprint(np.array([distance(P0,P1,p_i) for p_i in p]))",
      "metadata": {
        "id": "b56c2510",
        "trusted": true
      },
      "execution_count": 81,
      "outputs": [
        {
          "name": "stdout",
          "text": "[[ 5.06966978  5.45082173  1.89147105  4.58634337  4.51433326 10.13970707\n   3.78825698  5.60882889  5.85601935  6.52889907]\n [ 1.75139227  2.40742504 12.74942886  0.38973369  3.86198705  5.77522803\n   9.37239937  1.49191611  2.18882586  4.27782993]\n [ 1.83211517  8.16147981  6.8849372   1.61805709  2.55787395  3.87943245\n  10.4116362   5.3830677   4.7844549   9.72004468]\n [ 3.19686964 10.23439209  0.94345055  1.53378667  3.57634217  7.15167741\n   6.26587493 10.41285028 10.50706592 11.21827642]\n [ 8.29298035  1.23616111  5.17041442  9.31728112  6.50343077 14.79002239\n   0.21615831  0.80121223  0.26150258  0.08174009]\n [10.48892552  6.71860367  8.36354194 12.85375964  7.63393042 18.2533305\n   3.10001661  6.28209256  5.56062085  5.46075571]\n [ 6.90440379  0.75194537  4.68174579  7.58109391  5.43022085 13.07099534\n   1.35889165  0.88738635  1.28420529  1.92299664]\n [ 1.02147881  3.31811672 15.54224019  4.45042766  2.14431775  9.76709709\n   5.93211195  6.97377171  7.41853021  1.38353314]\n [ 8.9643812   0.17092898  2.95531874  9.35580455  7.59632906 14.86687178\n   0.57966362  1.2288411   1.88241847  1.18591833]\n [ 4.90275922  8.54970041 16.57126304  9.1932614   0.93434485 14.46837279\n   1.58431341 11.30247671 11.34168063  6.6796572 ]]\n",
          "output_type": "stream"
        }
      ],
      "id": "b56c2510"
    },
    {
      "cell_type": "markdown",
      "source": "#### 80. Consider an arbitrary array, write a function that extract a subpart with a fixed shape and centered on a given element (pad with a `fill` value when necessary) (★★★)",
      "metadata": {
        "id": "a0f23dfa"
      },
      "id": "a0f23dfa"
    },
    {
      "cell_type": "code",
      "source": "Z = np.random.randint(0,10,(10,10))\nshape = (5,5)\nfill  = 0\nposition = (1,1)\nR = np.ones(shape, dtype=Z.dtype)*fill\nP  = np.array(list(position)).astype(int)\nRs = np.array(list(R.shape)).astype(int)\nZs = np.array(list(Z.shape)).astype(int)\nR_start = np.zeros((len(shape),)).astype(int)\nR_stop  = np.array(list(shape)).astype(int)\nZ_start = (P-Rs//2)\nZ_stop  = (P+Rs//2)+Rs%2\nR_start = (R_start - np.minimum(Z_start,0)).tolist()\nZ_start = (np.maximum(Z_start,0)).tolist()\nR_stop = np.maximum(R_start, (R_stop - np.maximum(Z_stop-Zs,0))).tolist()\nZ_stop = (np.minimum(Z_stop,Zs)).tolist()\nr = [slice(start,stop) for start,stop in zip(R_start,R_stop)]\nz = [slice(start,stop) for start,stop in zip(Z_start,Z_stop)]\nR[r] = Z[z]\nprint(Z)\nprint(R)",
      "metadata": {},
      "execution_count": null,
      "outputs": [],
      "id": "86450ea5-58ba-497c-9719-6157852bec15"
    },
    {
      "cell_type": "markdown",
      "source": "#### 81. Consider an array Z = [1,2,3,4,5,6,7,8,9,10,11,12,13,14], how to generate an array R = [[1,2,3,4], [2,3,4,5], [3,4,5,6], ..., [11,12,13,14]]? (★★★)",
      "metadata": {
        "id": "cc27e944"
      },
      "id": "cc27e944"
    },
    {
      "cell_type": "code",
      "source": "Z = np.arange(1,15,dtype=np.uint32)\nR = stride_tricks.as_strided(Z,(11,4),(4,4))\nprint(R)",
      "metadata": {
        "id": "2fdaa26c",
        "trusted": true
      },
      "execution_count": 84,
      "outputs": [
        {
          "name": "stdout",
          "text": "[[ 1  2  3  4]\n [ 2  3  4  5]\n [ 3  4  5  6]\n [ 4  5  6  7]\n [ 5  6  7  8]\n [ 6  7  8  9]\n [ 7  8  9 10]\n [ 8  9 10 11]\n [ 9 10 11 12]\n [10 11 12 13]\n [11 12 13 14]]\n",
          "output_type": "stream"
        }
      ],
      "id": "2fdaa26c"
    },
    {
      "cell_type": "markdown",
      "source": "#### 82. Compute a matrix rank (★★★)",
      "metadata": {
        "id": "9bc44d6e"
      },
      "id": "9bc44d6e"
    },
    {
      "cell_type": "code",
      "source": "Z = np.random.uniform(0,1,(10,10))\nU, S, V = np.linalg.svd(Z) # Singular Value Decomposition\nrank = np.sum(S > 1e-10)\nprint(rank)",
      "metadata": {
        "id": "3a4c7564",
        "trusted": true
      },
      "execution_count": 85,
      "outputs": [
        {
          "name": "stdout",
          "text": "10\n",
          "output_type": "stream"
        }
      ],
      "id": "3a4c7564"
    },
    {
      "cell_type": "markdown",
      "source": "#### 83. How to find the most frequent value in an array?",
      "metadata": {
        "id": "718a82dd"
      },
      "id": "718a82dd"
    },
    {
      "cell_type": "code",
      "source": "Z = np.random.randint(0,10,50)\nprint(np.bincount(Z).argmax())",
      "metadata": {
        "id": "8ffc513c",
        "trusted": true
      },
      "execution_count": 86,
      "outputs": [
        {
          "name": "stdout",
          "text": "2\n",
          "output_type": "stream"
        }
      ],
      "id": "8ffc513c"
    },
    {
      "cell_type": "markdown",
      "source": "#### 84. Extract all the contiguous 3x3 blocks from a random 10x10 matrix (★★★)",
      "metadata": {
        "id": "754ceeba"
      },
      "id": "754ceeba"
    },
    {
      "cell_type": "code",
      "source": "Z = np.random.randint(0,5,(10,10))\nn = 3\ni = 1 + (Z.shape[0]-3)\nj = 1 + (Z.shape[1]-3)\nC = stride_tricks.as_strided(Z, shape=(i, j, n, n), strides=Z.strides + Z.strides)\nprint(C)",
      "metadata": {
        "id": "c32bb120",
        "trusted": true
      },
      "execution_count": 87,
      "outputs": [
        {
          "name": "stdout",
          "text": "[[[[3 0 3]\n   [4 4 4]\n   [3 0 3]]\n\n  [[0 3 1]\n   [4 4 0]\n   [0 3 1]]\n\n  [[3 1 2]\n   [4 0 2]\n   [3 1 1]]\n\n  [[1 2 2]\n   [0 2 3]\n   [1 1 3]]\n\n  [[2 2 0]\n   [2 3 4]\n   [1 3 4]]\n\n  [[2 0 0]\n   [3 4 3]\n   [3 4 0]]\n\n  [[0 0 4]\n   [4 3 0]\n   [4 0 4]]\n\n  [[0 4 2]\n   [3 0 0]\n   [0 4 1]]]\n\n\n [[[4 4 4]\n   [3 0 3]\n   [0 4 0]]\n\n  [[4 4 0]\n   [0 3 1]\n   [4 0 1]]\n\n  [[4 0 2]\n   [3 1 1]\n   [0 1 1]]\n\n  [[0 2 3]\n   [1 1 3]\n   [1 1 0]]\n\n  [[2 3 4]\n   [1 3 4]\n   [1 0 1]]\n\n  [[3 4 3]\n   [3 4 0]\n   [0 1 1]]\n\n  [[4 3 0]\n   [4 0 4]\n   [1 1 0]]\n\n  [[3 0 0]\n   [0 4 1]\n   [1 0 1]]]\n\n\n [[[3 0 3]\n   [0 4 0]\n   [2 0 0]]\n\n  [[0 3 1]\n   [4 0 1]\n   [0 0 2]]\n\n  [[3 1 1]\n   [0 1 1]\n   [0 2 3]]\n\n  [[1 1 3]\n   [1 1 0]\n   [2 3 0]]\n\n  [[1 3 4]\n   [1 0 1]\n   [3 0 0]]\n\n  [[3 4 0]\n   [0 1 1]\n   [0 0 3]]\n\n  [[4 0 4]\n   [1 1 0]\n   [0 3 0]]\n\n  [[0 4 1]\n   [1 0 1]\n   [3 0 1]]]\n\n\n [[[0 4 0]\n   [2 0 0]\n   [0 3 3]]\n\n  [[4 0 1]\n   [0 0 2]\n   [3 3 2]]\n\n  [[0 1 1]\n   [0 2 3]\n   [3 2 1]]\n\n  [[1 1 0]\n   [2 3 0]\n   [2 1 1]]\n\n  [[1 0 1]\n   [3 0 0]\n   [1 1 1]]\n\n  [[0 1 1]\n   [0 0 3]\n   [1 1 3]]\n\n  [[1 1 0]\n   [0 3 0]\n   [1 3 3]]\n\n  [[1 0 1]\n   [3 0 1]\n   [3 3 2]]]\n\n\n [[[2 0 0]\n   [0 3 3]\n   [3 4 3]]\n\n  [[0 0 2]\n   [3 3 2]\n   [4 3 4]]\n\n  [[0 2 3]\n   [3 2 1]\n   [3 4 3]]\n\n  [[2 3 0]\n   [2 1 1]\n   [4 3 1]]\n\n  [[3 0 0]\n   [1 1 1]\n   [3 1 2]]\n\n  [[0 0 3]\n   [1 1 3]\n   [1 2 4]]\n\n  [[0 3 0]\n   [1 3 3]\n   [2 4 4]]\n\n  [[3 0 1]\n   [3 3 2]\n   [4 4 2]]]\n\n\n [[[0 3 3]\n   [3 4 3]\n   [0 3 2]]\n\n  [[3 3 2]\n   [4 3 4]\n   [3 2 3]]\n\n  [[3 2 1]\n   [3 4 3]\n   [2 3 0]]\n\n  [[2 1 1]\n   [4 3 1]\n   [3 0 2]]\n\n  [[1 1 1]\n   [3 1 2]\n   [0 2 2]]\n\n  [[1 1 3]\n   [1 2 4]\n   [2 2 4]]\n\n  [[1 3 3]\n   [2 4 4]\n   [2 4 2]]\n\n  [[3 3 2]\n   [4 4 2]\n   [4 2 4]]]\n\n\n [[[3 4 3]\n   [0 3 2]\n   [1 3 1]]\n\n  [[4 3 4]\n   [3 2 3]\n   [3 1 3]]\n\n  [[3 4 3]\n   [2 3 0]\n   [1 3 2]]\n\n  [[4 3 1]\n   [3 0 2]\n   [3 2 2]]\n\n  [[3 1 2]\n   [0 2 2]\n   [2 2 4]]\n\n  [[1 2 4]\n   [2 2 4]\n   [2 4 4]]\n\n  [[2 4 4]\n   [2 4 2]\n   [4 4 0]]\n\n  [[4 4 2]\n   [4 2 4]\n   [4 0 1]]]\n\n\n [[[0 3 2]\n   [1 3 1]\n   [4 0 4]]\n\n  [[3 2 3]\n   [3 1 3]\n   [0 4 3]]\n\n  [[2 3 0]\n   [1 3 2]\n   [4 3 1]]\n\n  [[3 0 2]\n   [3 2 2]\n   [3 1 0]]\n\n  [[0 2 2]\n   [2 2 4]\n   [1 0 3]]\n\n  [[2 2 4]\n   [2 4 4]\n   [0 3 1]]\n\n  [[2 4 2]\n   [4 4 0]\n   [3 1 3]]\n\n  [[4 2 4]\n   [4 0 1]\n   [1 3 3]]]]\n",
          "output_type": "stream"
        }
      ],
      "id": "c32bb120"
    },
    {
      "cell_type": "markdown",
      "source": "#### 85. Create a 2D array subclass such that Z[i,j] == Z[j,i] (★★★)",
      "metadata": {
        "id": "9fc0b63a"
      },
      "id": "9fc0b63a"
    },
    {
      "cell_type": "code",
      "source": "class Symetric(np.ndarray):\n    def __setitem__(self, index, value):\n        i,j = index\n        super(Symetric, self).__setitem__((i,j), value)\n        super(Symetric, self).__setitem__((j,i), value)\ndef symetric(Z):\n    return np.asarray(Z + Z.T - np.diag(Z.diagonal())).view(Symetric)\nS = symetric(np.random.randint(0,10,(5,5)))\nS[2,3] = 42\nprint(S)",
      "metadata": {
        "id": "c41d0f9b",
        "trusted": true
      },
      "execution_count": 88,
      "outputs": [
        {
          "name": "stdout",
          "text": "[[ 4  8 16  0  9]\n [ 8  9  8  5  8]\n [16  8  6 42 10]\n [ 0  5 42  9  9]\n [ 9  8 10  9  9]]\n",
          "output_type": "stream"
        }
      ],
      "id": "c41d0f9b"
    },
    {
      "cell_type": "markdown",
      "source": "#### 86. Consider a set of p matrices wich shape (n,n) and a set of p vectors with shape (n,1). How to compute the sum of of the p matrix products at once? (result has shape (n,1)) (★★★)",
      "metadata": {
        "id": "ae909782"
      },
      "id": "ae909782"
    },
    {
      "cell_type": "code",
      "source": "p, n = 10, 20\nM = np.ones((p,n,n))\nV = np.ones((p,n,1))\nS = np.tensordot(M, V, axes=[[0, 2], [0, 1]])\nprint(S)",
      "metadata": {
        "id": "013944b1",
        "trusted": true
      },
      "execution_count": 89,
      "outputs": [
        {
          "name": "stdout",
          "text": "[[200.]\n [200.]\n [200.]\n [200.]\n [200.]\n [200.]\n [200.]\n [200.]\n [200.]\n [200.]\n [200.]\n [200.]\n [200.]\n [200.]\n [200.]\n [200.]\n [200.]\n [200.]\n [200.]\n [200.]]\n",
          "output_type": "stream"
        }
      ],
      "id": "013944b1"
    },
    {
      "cell_type": "markdown",
      "source": "#### 87. Consider a 16x16 array, how to get the block-sum (block size is 4x4)? (★★★)",
      "metadata": {
        "id": "5f134bf4"
      },
      "id": "5f134bf4"
    },
    {
      "cell_type": "code",
      "source": "Z = np.ones((16,16))\nk = 4\nS = np.add.reduceat(np.add.reduceat(Z, np.arange(0, Z.shape[0], k), axis=0),\n                                       np.arange(0, Z.shape[1], k), axis=1)\nprint(S)",
      "metadata": {
        "id": "bf480005",
        "trusted": true
      },
      "execution_count": 90,
      "outputs": [
        {
          "name": "stdout",
          "text": "[[16. 16. 16. 16.]\n [16. 16. 16. 16.]\n [16. 16. 16. 16.]\n [16. 16. 16. 16.]]\n",
          "output_type": "stream"
        }
      ],
      "id": "bf480005"
    },
    {
      "cell_type": "markdown",
      "source": "#### 88. How to implement the Game of Life using numpy arrays? (★★★)",
      "metadata": {
        "id": "aa91a3be"
      },
      "id": "aa91a3be"
    },
    {
      "cell_type": "code",
      "source": "def iterate(Z):\n    # Count neighbours\n    N = (Z[0:-2,0:-2] + Z[0:-2,1:-1] + Z[0:-2,2:] +\n         Z[1:-1,0:-2]                + Z[1:-1,2:] +\n         Z[2:  ,0:-2] + Z[2:  ,1:-1] + Z[2:  ,2:])\n    # Apply rules\n    birth = (N==3) & (Z[1:-1,1:-1]==0)\n    survive = ((N==2) | (N==3)) & (Z[1:-1,1:-1]==1)\n    Z[...] = 0\n    Z[1:-1,1:-1][birth | survive] = 1\n    return Z\nZ = np.random.randint(0,2,(50,50))\nfor i in range(100): Z = iterate(Z)\nprint(Z)",
      "metadata": {
        "id": "a20f0e2b",
        "trusted": true
      },
      "execution_count": 91,
      "outputs": [
        {
          "name": "stdout",
          "text": "[[0 0 0 ... 0 0 0]\n [0 0 0 ... 0 0 0]\n [0 0 0 ... 0 0 0]\n ...\n [0 0 0 ... 0 0 0]\n [0 0 0 ... 0 0 0]\n [0 0 0 ... 0 0 0]]\n",
          "output_type": "stream"
        }
      ],
      "id": "a20f0e2b"
    },
    {
      "cell_type": "markdown",
      "source": "#### 89. How to get the n largest values of an array (★★★)",
      "metadata": {
        "id": "885023d9"
      },
      "id": "885023d9"
    },
    {
      "cell_type": "code",
      "source": "Z = np.arange(10000)\nnp.random.shuffle(Z)\nn = 5\n\nprint (Z[np.argsort(Z)[-n:]])\n\nprint (Z[np.argpartition(-Z,n)[:n]])",
      "metadata": {
        "id": "996ab585",
        "trusted": true
      },
      "execution_count": 92,
      "outputs": [
        {
          "name": "stdout",
          "text": "[9995 9996 9997 9998 9999]\n[9999 9998 9997 9996 9995]\n",
          "output_type": "stream"
        }
      ],
      "id": "996ab585"
    },
    {
      "cell_type": "markdown",
      "source": "#### 90. Given an arbitrary number of vectors, build the cartesian product (every combinations of every item) (★★★)",
      "metadata": {
        "id": "d0518aeb"
      },
      "id": "d0518aeb"
    },
    {
      "cell_type": "code",
      "source": "def cartesian(arrays):\n    arrays = [np.asarray(a) for a in arrays]\n    shape = (len(x) for x in arrays)\n    ix = np.indices(shape, dtype=int)\n    ix = ix.reshape(len(arrays), -1).T\n    for n, arr in enumerate(arrays):\n        ix[:, n] = arrays[n][ix[:, n]]\n    return ix\nprint (cartesian(([1, 2, 3], [4, 5], [6, 7])))",
      "metadata": {
        "id": "d9ae30ca",
        "trusted": true
      },
      "execution_count": 93,
      "outputs": [
        {
          "name": "stdout",
          "text": "[[1 4 6]\n [1 4 7]\n [1 5 6]\n [1 5 7]\n [2 4 6]\n [2 4 7]\n [2 5 6]\n [2 5 7]\n [3 4 6]\n [3 4 7]\n [3 5 6]\n [3 5 7]]\n",
          "output_type": "stream"
        }
      ],
      "id": "d9ae30ca"
    },
    {
      "cell_type": "markdown",
      "source": "#### 91. How to create a record array from a regular array? (★★★)",
      "metadata": {
        "id": "20cc5dc6"
      },
      "id": "20cc5dc6"
    },
    {
      "cell_type": "code",
      "source": "Z = np.array([(\"Hello\", 2.5, 3),\n              (\"World\", 3.6, 2)])\nR = np.core.records.fromarrays(Z.T,\n                               names='col1, col2, col3',\n                               formats = 'S8, f8, i8')\nprint(R)",
      "metadata": {
        "id": "a7d05a34",
        "trusted": true
      },
      "execution_count": 97,
      "outputs": [
        {
          "name": "stdout",
          "text": "[(b'Hello', 2.5, 3) (b'World', 3.6, 2)]\n",
          "output_type": "stream"
        }
      ],
      "id": "a7d05a34"
    },
    {
      "cell_type": "markdown",
      "source": "#### 92. Consider a large vector Z, compute Z to the power of 3 using 3 different methods (★★★)",
      "metadata": {
        "id": "e59a2c44"
      },
      "id": "e59a2c44"
    },
    {
      "cell_type": "code",
      "source": "x = np.random.rand(int(5e7))\n%timeit np.power(x,3)\n%timeit x*x*x\n%timeit np.einsum('i,i,i->i',x,x,x)",
      "metadata": {
        "id": "916168ea",
        "trusted": true
      },
      "execution_count": 98,
      "outputs": [
        {
          "name": "stdout",
          "text": "2.18 s ± 52 ms per loop (mean ± std. dev. of 7 runs, 1 loop each)\n200 ms ± 9.03 ms per loop (mean ± std. dev. of 7 runs, 1 loop each)\n150 ms ± 7.12 ms per loop (mean ± std. dev. of 7 runs, 10 loops each)\n",
          "output_type": "stream"
        }
      ],
      "id": "916168ea"
    },
    {
      "cell_type": "markdown",
      "source": "#### 93. Consider two arrays A and B of shape (8,3) and (2,2). How to find rows of A that contain elements of each row of B regardless of the order of the elements in B? (★★★)",
      "metadata": {
        "id": "f1fc4b70"
      },
      "id": "f1fc4b70"
    },
    {
      "cell_type": "code",
      "source": "A = np.random.randint(0,5,(8,3))\nB = np.random.randint(0,5,(2,2))\nC = (A[..., np.newaxis, np.newaxis] == B)\nrows = np.where(C.any((3,1)).all(1))[0]\nprint(rows)",
      "metadata": {
        "id": "d35b4705",
        "trusted": true
      },
      "execution_count": 99,
      "outputs": [
        {
          "name": "stdout",
          "text": "[6]\n",
          "output_type": "stream"
        }
      ],
      "id": "d35b4705"
    },
    {
      "cell_type": "markdown",
      "source": "#### 94. Considering a 10x3 matrix, extract rows with unequal values (e.g. [2,2,3]) (★★★)",
      "metadata": {
        "id": "821a6ce8"
      },
      "id": "821a6ce8"
    },
    {
      "cell_type": "code",
      "source": "Z = np.random.randint(0,5,(10,3))\nprint(Z)\n\nE = np.all(Z[:,1:] == Z[:,:-1], axis=1)\nU = Z[~E]\nprint(U)\n\nU = Z[Z.max(axis=1) != Z.min(axis=1),:]\nprint(U)",
      "metadata": {
        "id": "5690c131",
        "trusted": true
      },
      "execution_count": null,
      "outputs": [],
      "id": "5690c131"
    },
    {
      "cell_type": "markdown",
      "source": "#### 95. Convert a vector of ints into a matrix binary representation (★★★)",
      "metadata": {
        "id": "9dc9a61c"
      },
      "id": "9dc9a61c"
    },
    {
      "cell_type": "code",
      "source": "I = np.array([0, 1, 2, 3, 15, 16, 32, 64, 128])\nB = ((I.reshape(-1,1) & (2**np.arange(8))) != 0).astype(int)\nprint(B[:,::-1])\n\nI = np.array([0, 1, 2, 3, 15, 16, 32, 64, 128], dtype=np.uint8)\nprint(np.unpackbits(I[:, np.newaxis], axis=1))",
      "metadata": {
        "id": "c728306f",
        "trusted": true
      },
      "execution_count": null,
      "outputs": [],
      "id": "c728306f"
    },
    {
      "cell_type": "markdown",
      "source": "#### 96. Given a two dimensional array, how to extract unique rows? (★★★)",
      "metadata": {
        "id": "cca48e6e"
      },
      "id": "cca48e6e"
    },
    {
      "cell_type": "code",
      "source": "Z = np.random.randint(0,2,(6,3))\nT = np.ascontiguousarray(Z).view(np.dtype((np.void, Z.dtype.itemsize * Z.shape[1])))\n_, idx = np.unique(T, return_index=True)\nuZ = Z[idx]\nprint(uZ)\n\nuZ = np.unique(Z, axis=0)\nprint(uZ)",
      "metadata": {
        "id": "ae2e6484",
        "trusted": true
      },
      "execution_count": null,
      "outputs": [],
      "id": "ae2e6484"
    },
    {
      "cell_type": "markdown",
      "source": "#### 97. Considering 2 vectors A & B, write the einsum equivalent of inner, outer, sum, and mul function (★★★)",
      "metadata": {
        "id": "3621d474"
      },
      "id": "3621d474"
    },
    {
      "cell_type": "code",
      "source": "A = np.random.uniform(0,1,10)\nB = np.random.uniform(0,1,10)\nnp.einsum('i->', A)       \nnp.einsum('i,i->i', A, B) \nnp.einsum('i,i', A, B)    \nnp.einsum('i,j->ij', A, B)    ",
      "metadata": {
        "id": "09238dfb",
        "trusted": true
      },
      "execution_count": null,
      "outputs": [],
      "id": "09238dfb"
    },
    {
      "cell_type": "markdown",
      "source": "#### 98. Considering a path described by two vectors (X,Y), how to sample it using equidistant samples (★★★)?",
      "metadata": {
        "id": "26162fae"
      },
      "id": "26162fae"
    },
    {
      "cell_type": "code",
      "source": "phi = np.arange(0, 10*np.pi, 0.1)\na = 1\nx = a*phi*np.cos(phi)\ny = a*phi*np.sin(phi)\ndr = (np.diff(x)**2 + np.diff(y)**2)**.5 \nr = np.zeros_like(x)\nr[1:] = np.cumsum(dr)                \nr_int = np.linspace(0, r.max(), 200) \nx_int = np.interp(r_int, r, x)       \ny_int = np.interp(r_int, r, y)",
      "metadata": {
        "id": "283c279f",
        "trusted": true
      },
      "execution_count": null,
      "outputs": [],
      "id": "283c279f"
    },
    {
      "cell_type": "markdown",
      "source": "#### 99. Given an integer n and a 2D array X, select from X the rows which can be interpreted as draws from a multinomial distribution with n degrees, i.e., the rows which only contain integers and which sum to n. (★★★)",
      "metadata": {
        "id": "44b20c57"
      },
      "id": "44b20c57"
    },
    {
      "cell_type": "code",
      "source": "X = np.asarray([[1.0, 0.0, 3.0, 8.0],\n                [2.0, 0.0, 1.0, 1.0],\n                [1.5, 2.5, 1.0, 0.0]])\nn = 4\nM = np.logical_and.reduce(np.mod(X, 1) == 0, axis=-1)\nM &= (X.sum(axis=-1) == n)\nprint(X[M])",
      "metadata": {
        "id": "389b7190",
        "trusted": true
      },
      "execution_count": null,
      "outputs": [],
      "id": "389b7190"
    },
    {
      "cell_type": "markdown",
      "source": "#### 100. Compute bootstrapped 95% confidence intervals for the mean of a 1D array X (i.e., resample the elements of an array with replacement N times, compute the mean of each sample, and then compute percentiles over the means). (★★★)",
      "metadata": {
        "id": "6fa5ed76"
      },
      "id": "6fa5ed76"
    },
    {
      "cell_type": "code",
      "source": "X = np.random.randn(100) \nN = 1000 \nidx = np.random.randint(0, X.size, (N, X.size))\nmeans = X[idx].mean(axis=1)\nconfint = np.percentile(means, [2.5, 97.5])\nprint(confint)",
      "metadata": {
        "id": "4db4cc57",
        "trusted": true
      },
      "execution_count": null,
      "outputs": [],
      "id": "4db4cc57"
    }
  ]
}